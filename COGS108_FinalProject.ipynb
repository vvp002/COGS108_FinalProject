{
 "cells": [
  {
   "cell_type": "markdown",
   "metadata": {},
   "source": [
    "# COGS 108 - Final Project"
   ]
  },
  {
   "cell_type": "markdown",
   "metadata": {},
   "source": [
    "## Introduction and Background\n",
    "\n",
    "\n"
   ]
  },
  {
   "cell_type": "code",
   "execution_count": 3,
   "metadata": {},
   "outputs": [],
   "source": [
    "# Imports for data\n",
    "%matplotlib inline\n",
    "\n",
    "import numpy as np\n",
    "import pandas as pd\n",
    "import matplotlib.pyplot as plt\n",
    "\n",
    "# import patsy\n",
    "# import statsmodels.api as sm\n",
    "# import scipy.stats as stats\n",
    "from scipy.stats import ttest_ind, chisquare, normaltest\n",
    "\n",
    "# Note: the statsmodels import may print out a 'FutureWarning'. Thats fine."
   ]
  },
  {
   "cell_type": "markdown",
   "metadata": {},
   "source": [
    "## Data"
   ]
  },
  {
   "cell_type": "markdown",
   "metadata": {},
   "source": [
    "### Description (Dataset 1)\n",
    "Link: https://catalog.data.gov/dataset/crime-data-from-2010-to-present\n",
    "\n",
    "Description: Number of crimes in Los Angeles, California starting from 2010\n",
    "Source: data.lacity.org"
   ]
  },
  {
   "cell_type": "code",
   "execution_count": 4,
   "metadata": {},
   "outputs": [
    {
     "data": {
      "text/html": [
       "<div>\n",
       "<style scoped>\n",
       "    .dataframe tbody tr th:only-of-type {\n",
       "        vertical-align: middle;\n",
       "    }\n",
       "\n",
       "    .dataframe tbody tr th {\n",
       "        vertical-align: top;\n",
       "    }\n",
       "\n",
       "    .dataframe thead th {\n",
       "        text-align: right;\n",
       "    }\n",
       "</style>\n",
       "<table border=\"1\" class=\"dataframe\">\n",
       "  <thead>\n",
       "    <tr style=\"text-align: right;\">\n",
       "      <th></th>\n",
       "      <th>DR Number</th>\n",
       "      <th>Date Reported</th>\n",
       "      <th>Date Occurred</th>\n",
       "      <th>Time Occurred</th>\n",
       "      <th>Area ID</th>\n",
       "      <th>Area Name</th>\n",
       "      <th>Reporting District</th>\n",
       "      <th>Crime Code</th>\n",
       "      <th>Crime Code Description</th>\n",
       "      <th>Location</th>\n",
       "    </tr>\n",
       "  </thead>\n",
       "  <tbody>\n",
       "    <tr>\n",
       "      <th>0</th>\n",
       "      <td>11401303</td>\n",
       "      <td>09/13/2010</td>\n",
       "      <td>09/12/2010</td>\n",
       "      <td>45</td>\n",
       "      <td>14</td>\n",
       "      <td>Pacific</td>\n",
       "      <td>1485</td>\n",
       "      <td>740</td>\n",
       "      <td>VANDALISM - FELONY ($400 &amp; OVER, ALL CHURCH VA...</td>\n",
       "      <td>(33.9599, -118.3962)</td>\n",
       "    </tr>\n",
       "    <tr>\n",
       "      <th>1</th>\n",
       "      <td>70309629</td>\n",
       "      <td>08/09/2010</td>\n",
       "      <td>08/09/2010</td>\n",
       "      <td>1515</td>\n",
       "      <td>13</td>\n",
       "      <td>Newton</td>\n",
       "      <td>1324</td>\n",
       "      <td>946</td>\n",
       "      <td>OTHER MISCELLANEOUS CRIME</td>\n",
       "      <td>(34.0224, -118.2524)</td>\n",
       "    </tr>\n",
       "    <tr>\n",
       "      <th>2</th>\n",
       "      <td>100100508</td>\n",
       "      <td>01/08/2010</td>\n",
       "      <td>01/07/2010</td>\n",
       "      <td>2005</td>\n",
       "      <td>1</td>\n",
       "      <td>Central</td>\n",
       "      <td>182</td>\n",
       "      <td>330</td>\n",
       "      <td>BURGLARY FROM VEHICLE</td>\n",
       "      <td>(34.0389, -118.2643)</td>\n",
       "    </tr>\n",
       "    <tr>\n",
       "      <th>3</th>\n",
       "      <td>100100511</td>\n",
       "      <td>01/09/2010</td>\n",
       "      <td>01/06/2010</td>\n",
       "      <td>2100</td>\n",
       "      <td>1</td>\n",
       "      <td>Central</td>\n",
       "      <td>132</td>\n",
       "      <td>341</td>\n",
       "      <td>THEFT-GRAND ($950.01 &amp; OVER)EXCPT,GUNS,FOWL,LI...</td>\n",
       "      <td>(34.0538, -118.2488)</td>\n",
       "    </tr>\n",
       "    <tr>\n",
       "      <th>4</th>\n",
       "      <td>100100523</td>\n",
       "      <td>01/15/2010</td>\n",
       "      <td>01/15/2010</td>\n",
       "      <td>245</td>\n",
       "      <td>1</td>\n",
       "      <td>Central</td>\n",
       "      <td>182</td>\n",
       "      <td>740</td>\n",
       "      <td>VANDALISM - FELONY ($400 &amp; OVER, ALL CHURCH VA...</td>\n",
       "      <td>(34.0409, -118.2609)</td>\n",
       "    </tr>\n",
       "    <tr>\n",
       "      <th>5</th>\n",
       "      <td>100100552</td>\n",
       "      <td>01/23/2010</td>\n",
       "      <td>01/23/2010</td>\n",
       "      <td>1225</td>\n",
       "      <td>1</td>\n",
       "      <td>Central</td>\n",
       "      <td>192</td>\n",
       "      <td>237</td>\n",
       "      <td>CHILD NEGLECT (SEE 300 W.I.C.)</td>\n",
       "      <td>(34.0401, -118.2668)</td>\n",
       "    </tr>\n",
       "    <tr>\n",
       "      <th>6</th>\n",
       "      <td>100100562</td>\n",
       "      <td>01/28/2010</td>\n",
       "      <td>01/28/2010</td>\n",
       "      <td>2345</td>\n",
       "      <td>1</td>\n",
       "      <td>Central</td>\n",
       "      <td>152</td>\n",
       "      <td>626</td>\n",
       "      <td>INTIMATE PARTNER - SIMPLE ASSAULT</td>\n",
       "      <td>(34.0502, -118.254)</td>\n",
       "    </tr>\n",
       "    <tr>\n",
       "      <th>7</th>\n",
       "      <td>100100575</td>\n",
       "      <td>02/01/2010</td>\n",
       "      <td>01/31/2010</td>\n",
       "      <td>1720</td>\n",
       "      <td>1</td>\n",
       "      <td>Central</td>\n",
       "      <td>181</td>\n",
       "      <td>341</td>\n",
       "      <td>THEFT-GRAND ($950.01 &amp; OVER)EXCPT,GUNS,FOWL,LI...</td>\n",
       "      <td>(34.0437, -118.2652)</td>\n",
       "    </tr>\n",
       "    <tr>\n",
       "      <th>8</th>\n",
       "      <td>100100610</td>\n",
       "      <td>02/11/2010</td>\n",
       "      <td>02/10/2010</td>\n",
       "      <td>1800</td>\n",
       "      <td>1</td>\n",
       "      <td>Central</td>\n",
       "      <td>162</td>\n",
       "      <td>442</td>\n",
       "      <td>SHOPLIFTING - PETTY THEFT ($950 &amp; UNDER)</td>\n",
       "      <td>(34.048, -118.2577)</td>\n",
       "    </tr>\n",
       "    <tr>\n",
       "      <th>9</th>\n",
       "      <td>100100616</td>\n",
       "      <td>02/11/2010</td>\n",
       "      <td>02/11/2010</td>\n",
       "      <td>1515</td>\n",
       "      <td>1</td>\n",
       "      <td>Central</td>\n",
       "      <td>192</td>\n",
       "      <td>341</td>\n",
       "      <td>THEFT-GRAND ($950.01 &amp; OVER)EXCPT,GUNS,FOWL,LI...</td>\n",
       "      <td>(34.0389, -118.2643)</td>\n",
       "    </tr>\n",
       "    <tr>\n",
       "      <th>10</th>\n",
       "      <td>100100638</td>\n",
       "      <td>02/20/2010</td>\n",
       "      <td>02/20/2010</td>\n",
       "      <td>100</td>\n",
       "      <td>1</td>\n",
       "      <td>Central</td>\n",
       "      <td>164</td>\n",
       "      <td>740</td>\n",
       "      <td>VANDALISM - FELONY ($400 &amp; OVER, ALL CHURCH VA...</td>\n",
       "      <td>(34.0439, -118.2514)</td>\n",
       "    </tr>\n",
       "    <tr>\n",
       "      <th>11</th>\n",
       "      <td>100100650</td>\n",
       "      <td>02/25/2010</td>\n",
       "      <td>02/25/2010</td>\n",
       "      <td>30</td>\n",
       "      <td>1</td>\n",
       "      <td>Central</td>\n",
       "      <td>111</td>\n",
       "      <td>310</td>\n",
       "      <td>BURGLARY</td>\n",
       "      <td>(34.0617, -118.2469)</td>\n",
       "    </tr>\n",
       "    <tr>\n",
       "      <th>12</th>\n",
       "      <td>100100654</td>\n",
       "      <td>02/27/2010</td>\n",
       "      <td>02/27/2010</td>\n",
       "      <td>1955</td>\n",
       "      <td>1</td>\n",
       "      <td>Central</td>\n",
       "      <td>174</td>\n",
       "      <td>946</td>\n",
       "      <td>OTHER MISCELLANEOUS CRIME</td>\n",
       "      <td>(34.0445, -118.2523)</td>\n",
       "    </tr>\n",
       "    <tr>\n",
       "      <th>13</th>\n",
       "      <td>100100660</td>\n",
       "      <td>03/01/2010</td>\n",
       "      <td>03/01/2010</td>\n",
       "      <td>100</td>\n",
       "      <td>1</td>\n",
       "      <td>Central</td>\n",
       "      <td>148</td>\n",
       "      <td>648</td>\n",
       "      <td>ARSON</td>\n",
       "      <td>(34.0435, -118.2427)</td>\n",
       "    </tr>\n",
       "    <tr>\n",
       "      <th>14</th>\n",
       "      <td>100100697</td>\n",
       "      <td>03/12/2010</td>\n",
       "      <td>03/12/2010</td>\n",
       "      <td>1520</td>\n",
       "      <td>1</td>\n",
       "      <td>Central</td>\n",
       "      <td>151</td>\n",
       "      <td>341</td>\n",
       "      <td>THEFT-GRAND ($950.01 &amp; OVER)EXCPT,GUNS,FOWL,LI...</td>\n",
       "      <td>(34.0499, -118.2614)</td>\n",
       "    </tr>\n",
       "    <tr>\n",
       "      <th>15</th>\n",
       "      <td>100100725</td>\n",
       "      <td>03/18/2010</td>\n",
       "      <td>03/18/2010</td>\n",
       "      <td>15</td>\n",
       "      <td>1</td>\n",
       "      <td>Central</td>\n",
       "      <td>145</td>\n",
       "      <td>230</td>\n",
       "      <td>ASSAULT WITH DEADLY WEAPON, AGGRAVATED ASSAULT</td>\n",
       "      <td>(34.0482, -118.2472)</td>\n",
       "    </tr>\n",
       "    <tr>\n",
       "      <th>16</th>\n",
       "      <td>100100726</td>\n",
       "      <td>03/19/2010</td>\n",
       "      <td>03/19/2010</td>\n",
       "      <td>1000</td>\n",
       "      <td>13</td>\n",
       "      <td>Newton</td>\n",
       "      <td>1307</td>\n",
       "      <td>624</td>\n",
       "      <td>BATTERY - SIMPLE ASSAULT</td>\n",
       "      <td>(34.0371, -118.2475)</td>\n",
       "    </tr>\n",
       "    <tr>\n",
       "      <th>17</th>\n",
       "      <td>100100733</td>\n",
       "      <td>03/21/2010</td>\n",
       "      <td>03/21/2010</td>\n",
       "      <td>1000</td>\n",
       "      <td>11</td>\n",
       "      <td>Northeast</td>\n",
       "      <td>1171</td>\n",
       "      <td>946</td>\n",
       "      <td>OTHER MISCELLANEOUS CRIME</td>\n",
       "      <td>(34.0917, -118.2741)</td>\n",
       "    </tr>\n",
       "    <tr>\n",
       "      <th>18</th>\n",
       "      <td>100100738</td>\n",
       "      <td>03/22/2010</td>\n",
       "      <td>03/19/2010</td>\n",
       "      <td>1730</td>\n",
       "      <td>1</td>\n",
       "      <td>Central</td>\n",
       "      <td>195</td>\n",
       "      <td>627</td>\n",
       "      <td>CHILD ABUSE (PHYSICAL) - SIMPLE ASSAULT</td>\n",
       "      <td>(34.0317, -118.2641)</td>\n",
       "    </tr>\n",
       "    <tr>\n",
       "      <th>19</th>\n",
       "      <td>100100740</td>\n",
       "      <td>03/25/2010</td>\n",
       "      <td>03/22/2010</td>\n",
       "      <td>1915</td>\n",
       "      <td>1</td>\n",
       "      <td>Central</td>\n",
       "      <td>142</td>\n",
       "      <td>230</td>\n",
       "      <td>ASSAULT WITH DEADLY WEAPON, AGGRAVATED ASSAULT</td>\n",
       "      <td>(34.0516, -118.2526)</td>\n",
       "    </tr>\n",
       "    <tr>\n",
       "      <th>20</th>\n",
       "      <td>100100744</td>\n",
       "      <td>03/23/2010</td>\n",
       "      <td>03/23/2010</td>\n",
       "      <td>230</td>\n",
       "      <td>1</td>\n",
       "      <td>Central</td>\n",
       "      <td>101</td>\n",
       "      <td>740</td>\n",
       "      <td>VANDALISM - FELONY ($400 &amp; OVER, ALL CHURCH VA...</td>\n",
       "      <td>(34.0717, -118.2493)</td>\n",
       "    </tr>\n",
       "    <tr>\n",
       "      <th>21</th>\n",
       "      <td>100100753</td>\n",
       "      <td>03/25/2010</td>\n",
       "      <td>03/25/2010</td>\n",
       "      <td>240</td>\n",
       "      <td>1</td>\n",
       "      <td>Central</td>\n",
       "      <td>171</td>\n",
       "      <td>946</td>\n",
       "      <td>OTHER MISCELLANEOUS CRIME</td>\n",
       "      <td>(34.0475, -118.2657)</td>\n",
       "    </tr>\n",
       "    <tr>\n",
       "      <th>22</th>\n",
       "      <td>100100764</td>\n",
       "      <td>04/01/2010</td>\n",
       "      <td>03/29/2010</td>\n",
       "      <td>2320</td>\n",
       "      <td>1</td>\n",
       "      <td>Central</td>\n",
       "      <td>176</td>\n",
       "      <td>740</td>\n",
       "      <td>VANDALISM - FELONY ($400 &amp; OVER, ALL CHURCH VA...</td>\n",
       "      <td>(34.0373, -118.2503)</td>\n",
       "    </tr>\n",
       "    <tr>\n",
       "      <th>23</th>\n",
       "      <td>100100792</td>\n",
       "      <td>04/10/2010</td>\n",
       "      <td>04/10/2010</td>\n",
       "      <td>1710</td>\n",
       "      <td>1</td>\n",
       "      <td>Central</td>\n",
       "      <td>135</td>\n",
       "      <td>210</td>\n",
       "      <td>ROBBERY</td>\n",
       "      <td>(34.0496, -118.2458)</td>\n",
       "    </tr>\n",
       "    <tr>\n",
       "      <th>24</th>\n",
       "      <td>100100799</td>\n",
       "      <td>04/12/2010</td>\n",
       "      <td>04/12/2010</td>\n",
       "      <td>1700</td>\n",
       "      <td>1</td>\n",
       "      <td>Central</td>\n",
       "      <td>111</td>\n",
       "      <td>740</td>\n",
       "      <td>VANDALISM - FELONY ($400 &amp; OVER, ALL CHURCH VA...</td>\n",
       "      <td>(34.0672, -118.2385)</td>\n",
       "    </tr>\n",
       "    <tr>\n",
       "      <th>25</th>\n",
       "      <td>100100802</td>\n",
       "      <td>04/14/2010</td>\n",
       "      <td>04/14/2010</td>\n",
       "      <td>1515</td>\n",
       "      <td>1</td>\n",
       "      <td>Central</td>\n",
       "      <td>155</td>\n",
       "      <td>946</td>\n",
       "      <td>OTHER MISCELLANEOUS CRIME</td>\n",
       "      <td>(34.0446, -118.249)</td>\n",
       "    </tr>\n",
       "    <tr>\n",
       "      <th>26</th>\n",
       "      <td>100100803</td>\n",
       "      <td>04/14/2010</td>\n",
       "      <td>04/14/2010</td>\n",
       "      <td>915</td>\n",
       "      <td>1</td>\n",
       "      <td>Central</td>\n",
       "      <td>161</td>\n",
       "      <td>341</td>\n",
       "      <td>THEFT-GRAND ($950.01 &amp; OVER)EXCPT,GUNS,FOWL,LI...</td>\n",
       "      <td>(34.0494, -118.2599)</td>\n",
       "    </tr>\n",
       "    <tr>\n",
       "      <th>27</th>\n",
       "      <td>100100812</td>\n",
       "      <td>04/16/2010</td>\n",
       "      <td>04/16/2010</td>\n",
       "      <td>800</td>\n",
       "      <td>1</td>\n",
       "      <td>Central</td>\n",
       "      <td>152</td>\n",
       "      <td>441</td>\n",
       "      <td>THEFT PLAIN - ATTEMPT</td>\n",
       "      <td>(34.0467, -118.2556)</td>\n",
       "    </tr>\n",
       "    <tr>\n",
       "      <th>28</th>\n",
       "      <td>100100826</td>\n",
       "      <td>04/17/2010</td>\n",
       "      <td>04/17/2010</td>\n",
       "      <td>1300</td>\n",
       "      <td>1</td>\n",
       "      <td>Central</td>\n",
       "      <td>124</td>\n",
       "      <td>745</td>\n",
       "      <td>VANDALISM - MISDEAMEANOR ($399 OR UNDER)</td>\n",
       "      <td>(34.0522, -118.2434)</td>\n",
       "    </tr>\n",
       "    <tr>\n",
       "      <th>29</th>\n",
       "      <td>100100828</td>\n",
       "      <td>04/17/2010</td>\n",
       "      <td>04/17/2010</td>\n",
       "      <td>1900</td>\n",
       "      <td>1</td>\n",
       "      <td>Central</td>\n",
       "      <td>111</td>\n",
       "      <td>930</td>\n",
       "      <td>CRIMINAL THREATS - NO WEAPON DISPLAYED</td>\n",
       "      <td>(34.0582, -118.2387)</td>\n",
       "    </tr>\n",
       "    <tr>\n",
       "      <th>...</th>\n",
       "      <td>...</td>\n",
       "      <td>...</td>\n",
       "      <td>...</td>\n",
       "      <td>...</td>\n",
       "      <td>...</td>\n",
       "      <td>...</td>\n",
       "      <td>...</td>\n",
       "      <td>...</td>\n",
       "      <td>...</td>\n",
       "      <td>...</td>\n",
       "    </tr>\n",
       "    <tr>\n",
       "      <th>1963713</th>\n",
       "      <td>120808296</td>\n",
       "      <td>04/12/2012</td>\n",
       "      <td>01/01/2010</td>\n",
       "      <td>1200</td>\n",
       "      <td>8</td>\n",
       "      <td>West LA</td>\n",
       "      <td>836</td>\n",
       "      <td>354</td>\n",
       "      <td>THEFT OF IDENTITY</td>\n",
       "      <td>(34.0533, -118.4185)</td>\n",
       "    </tr>\n",
       "    <tr>\n",
       "      <th>1963714</th>\n",
       "      <td>180515475</td>\n",
       "      <td>09/05/2018</td>\n",
       "      <td>09/05/2010</td>\n",
       "      <td>1230</td>\n",
       "      <td>5</td>\n",
       "      <td>Harbor</td>\n",
       "      <td>511</td>\n",
       "      <td>440</td>\n",
       "      <td>THEFT PLAIN - PETTY ($950 &amp; UNDER)</td>\n",
       "      <td>(33.7925, -118.3012)</td>\n",
       "    </tr>\n",
       "    <tr>\n",
       "      <th>1963715</th>\n",
       "      <td>180917470</td>\n",
       "      <td>09/13/2018</td>\n",
       "      <td>12/01/2010</td>\n",
       "      <td>730</td>\n",
       "      <td>9</td>\n",
       "      <td>Van Nuys</td>\n",
       "      <td>946</td>\n",
       "      <td>354</td>\n",
       "      <td>THEFT OF IDENTITY</td>\n",
       "      <td>(34.1794, -118.4355)</td>\n",
       "    </tr>\n",
       "    <tr>\n",
       "      <th>1963716</th>\n",
       "      <td>110813454</td>\n",
       "      <td>08/02/2011</td>\n",
       "      <td>01/08/2010</td>\n",
       "      <td>1200</td>\n",
       "      <td>8</td>\n",
       "      <td>West LA</td>\n",
       "      <td>839</td>\n",
       "      <td>341</td>\n",
       "      <td>THEFT-GRAND ($950.01 &amp; OVER)EXCPT,GUNS,FOWL,LI...</td>\n",
       "      <td>(34.0587, -118.4159)</td>\n",
       "    </tr>\n",
       "    <tr>\n",
       "      <th>1963717</th>\n",
       "      <td>100815722</td>\n",
       "      <td>09/24/2010</td>\n",
       "      <td>09/22/2010</td>\n",
       "      <td>1500</td>\n",
       "      <td>8</td>\n",
       "      <td>West LA</td>\n",
       "      <td>857</td>\n",
       "      <td>649</td>\n",
       "      <td>DOCUMENT FORGERY / STOLEN FELONY</td>\n",
       "      <td>(34.0531, -118.3941)</td>\n",
       "    </tr>\n",
       "    <tr>\n",
       "      <th>1963718</th>\n",
       "      <td>180620846</td>\n",
       "      <td>09/25/2018</td>\n",
       "      <td>07/01/2010</td>\n",
       "      <td>1200</td>\n",
       "      <td>6</td>\n",
       "      <td>Hollywood</td>\n",
       "      <td>678</td>\n",
       "      <td>354</td>\n",
       "      <td>THEFT OF IDENTITY</td>\n",
       "      <td>(34.0863, -118.3064)</td>\n",
       "    </tr>\n",
       "    <tr>\n",
       "      <th>1963719</th>\n",
       "      <td>100222281</td>\n",
       "      <td>12/12/2010</td>\n",
       "      <td>12/12/2010</td>\n",
       "      <td>2045</td>\n",
       "      <td>2</td>\n",
       "      <td>Rampart</td>\n",
       "      <td>202</td>\n",
       "      <td>940</td>\n",
       "      <td>EXTORTION</td>\n",
       "      <td>(34.0887, -118.2893)</td>\n",
       "    </tr>\n",
       "    <tr>\n",
       "      <th>1963720</th>\n",
       "      <td>181320736</td>\n",
       "      <td>10/09/2018</td>\n",
       "      <td>01/01/2010</td>\n",
       "      <td>700</td>\n",
       "      <td>13</td>\n",
       "      <td>Newton</td>\n",
       "      <td>1371</td>\n",
       "      <td>860</td>\n",
       "      <td>BATTERY WITH SEXUAL CONTACT</td>\n",
       "      <td>(33.9933, -118.2783)</td>\n",
       "    </tr>\n",
       "    <tr>\n",
       "      <th>1963721</th>\n",
       "      <td>181717346</td>\n",
       "      <td>10/09/2018</td>\n",
       "      <td>10/08/2010</td>\n",
       "      <td>1600</td>\n",
       "      <td>17</td>\n",
       "      <td>Devonshire</td>\n",
       "      <td>1735</td>\n",
       "      <td>331</td>\n",
       "      <td>THEFT FROM MOTOR VEHICLE - GRAND ($400 AND OVER)</td>\n",
       "      <td>(34.2673, -118.5215)</td>\n",
       "    </tr>\n",
       "    <tr>\n",
       "      <th>1963722</th>\n",
       "      <td>180220837</td>\n",
       "      <td>10/12/2018</td>\n",
       "      <td>10/09/2010</td>\n",
       "      <td>1600</td>\n",
       "      <td>2</td>\n",
       "      <td>Rampart</td>\n",
       "      <td>205</td>\n",
       "      <td>745</td>\n",
       "      <td>VANDALISM - MISDEAMEANOR ($399 OR UNDER)</td>\n",
       "      <td>(34.0825, -118.2753)</td>\n",
       "    </tr>\n",
       "    <tr>\n",
       "      <th>1963723</th>\n",
       "      <td>180701156</td>\n",
       "      <td>10/05/2018</td>\n",
       "      <td>10/05/2010</td>\n",
       "      <td>2200</td>\n",
       "      <td>7</td>\n",
       "      <td>Wilshire</td>\n",
       "      <td>784</td>\n",
       "      <td>930</td>\n",
       "      <td>CRIMINAL THREATS - NO WEAPON DISPLAYED</td>\n",
       "      <td>(34.0352, -118.3541)</td>\n",
       "    </tr>\n",
       "    <tr>\n",
       "      <th>1963724</th>\n",
       "      <td>181820914</td>\n",
       "      <td>10/19/2018</td>\n",
       "      <td>10/19/2010</td>\n",
       "      <td>1000</td>\n",
       "      <td>18</td>\n",
       "      <td>Southeast</td>\n",
       "      <td>1802</td>\n",
       "      <td>901</td>\n",
       "      <td>VIOLATION OF RESTRAINING ORDER</td>\n",
       "      <td>(33.9586, -118.2739)</td>\n",
       "    </tr>\n",
       "    <tr>\n",
       "      <th>1963725</th>\n",
       "      <td>101507386</td>\n",
       "      <td>02/25/2010</td>\n",
       "      <td>02/25/2010</td>\n",
       "      <td>2245</td>\n",
       "      <td>15</td>\n",
       "      <td>N Hollywood</td>\n",
       "      <td>1525</td>\n",
       "      <td>230</td>\n",
       "      <td>ASSAULT WITH DEADLY WEAPON, AGGRAVATED ASSAULT</td>\n",
       "      <td>(34.1885, -118.3943)</td>\n",
       "    </tr>\n",
       "    <tr>\n",
       "      <th>1963726</th>\n",
       "      <td>101921710</td>\n",
       "      <td>09/24/2010</td>\n",
       "      <td>09/21/2010</td>\n",
       "      <td>2020</td>\n",
       "      <td>19</td>\n",
       "      <td>Mission</td>\n",
       "      <td>1944</td>\n",
       "      <td>624</td>\n",
       "      <td>BATTERY - SIMPLE ASSAULT</td>\n",
       "      <td>(34.2689, -118.4429)</td>\n",
       "    </tr>\n",
       "    <tr>\n",
       "      <th>1963727</th>\n",
       "      <td>101500719</td>\n",
       "      <td>03/08/2010</td>\n",
       "      <td>03/08/2010</td>\n",
       "      <td>200</td>\n",
       "      <td>15</td>\n",
       "      <td>N Hollywood</td>\n",
       "      <td>1532</td>\n",
       "      <td>121</td>\n",
       "      <td>RAPE, FORCIBLE</td>\n",
       "      <td>(34.1797, -118.4014)</td>\n",
       "    </tr>\n",
       "    <tr>\n",
       "      <th>1963728</th>\n",
       "      <td>151009500</td>\n",
       "      <td>05/14/2015</td>\n",
       "      <td>11/29/2010</td>\n",
       "      <td>1200</td>\n",
       "      <td>10</td>\n",
       "      <td>West Valley</td>\n",
       "      <td>1088</td>\n",
       "      <td>668</td>\n",
       "      <td>EMBEZZLEMENT, GRAND THEFT ($950.01 &amp; OVER)</td>\n",
       "      <td>(34.1576, -118.4923)</td>\n",
       "    </tr>\n",
       "    <tr>\n",
       "      <th>1963729</th>\n",
       "      <td>180719075</td>\n",
       "      <td>11/01/2018</td>\n",
       "      <td>11/17/2010</td>\n",
       "      <td>800</td>\n",
       "      <td>7</td>\n",
       "      <td>Wilshire</td>\n",
       "      <td>732</td>\n",
       "      <td>649</td>\n",
       "      <td>DOCUMENT FORGERY / STOLEN FELONY</td>\n",
       "      <td>(34.0665, -118.3662)</td>\n",
       "    </tr>\n",
       "    <tr>\n",
       "      <th>1963730</th>\n",
       "      <td>181919483</td>\n",
       "      <td>10/24/2018</td>\n",
       "      <td>10/19/2010</td>\n",
       "      <td>1700</td>\n",
       "      <td>19</td>\n",
       "      <td>Mission</td>\n",
       "      <td>1984</td>\n",
       "      <td>740</td>\n",
       "      <td>VANDALISM - FELONY ($400 &amp; OVER, ALL CHURCH VA...</td>\n",
       "      <td>(34.2265, -118.4565)</td>\n",
       "    </tr>\n",
       "    <tr>\n",
       "      <th>1963731</th>\n",
       "      <td>100325895</td>\n",
       "      <td>11/11/2010</td>\n",
       "      <td>11/11/2010</td>\n",
       "      <td>1230</td>\n",
       "      <td>3</td>\n",
       "      <td>Southwest</td>\n",
       "      <td>331</td>\n",
       "      <td>740</td>\n",
       "      <td>VANDALISM - FELONY ($400 &amp; OVER, ALL CHURCH VA...</td>\n",
       "      <td>(34.0289, -118.3487)</td>\n",
       "    </tr>\n",
       "    <tr>\n",
       "      <th>1963732</th>\n",
       "      <td>100629163</td>\n",
       "      <td>12/07/2010</td>\n",
       "      <td>12/07/2010</td>\n",
       "      <td>100</td>\n",
       "      <td>6</td>\n",
       "      <td>Hollywood</td>\n",
       "      <td>656</td>\n",
       "      <td>626</td>\n",
       "      <td>INTIMATE PARTNER - SIMPLE ASSAULT</td>\n",
       "      <td>(34.0872, -118.3222)</td>\n",
       "    </tr>\n",
       "    <tr>\n",
       "      <th>1963733</th>\n",
       "      <td>182118892</td>\n",
       "      <td>11/06/2018</td>\n",
       "      <td>01/01/2010</td>\n",
       "      <td>1</td>\n",
       "      <td>21</td>\n",
       "      <td>Topanga</td>\n",
       "      <td>2138</td>\n",
       "      <td>354</td>\n",
       "      <td>THEFT OF IDENTITY</td>\n",
       "      <td>(34.2083, -118.5754)</td>\n",
       "    </tr>\n",
       "    <tr>\n",
       "      <th>1963734</th>\n",
       "      <td>180623707</td>\n",
       "      <td>11/11/2018</td>\n",
       "      <td>11/11/2010</td>\n",
       "      <td>1815</td>\n",
       "      <td>6</td>\n",
       "      <td>Hollywood</td>\n",
       "      <td>679</td>\n",
       "      <td>210</td>\n",
       "      <td>ROBBERY</td>\n",
       "      <td>(34.0908, -118.3019)</td>\n",
       "    </tr>\n",
       "    <tr>\n",
       "      <th>1963735</th>\n",
       "      <td>181918983</td>\n",
       "      <td>10/14/2018</td>\n",
       "      <td>10/14/2010</td>\n",
       "      <td>500</td>\n",
       "      <td>19</td>\n",
       "      <td>Mission</td>\n",
       "      <td>1998</td>\n",
       "      <td>626</td>\n",
       "      <td>INTIMATE PARTNER - SIMPLE ASSAULT</td>\n",
       "      <td>(34.2207, -118.4464)</td>\n",
       "    </tr>\n",
       "    <tr>\n",
       "      <th>1963736</th>\n",
       "      <td>181718975</td>\n",
       "      <td>11/16/2018</td>\n",
       "      <td>12/01/2010</td>\n",
       "      <td>900</td>\n",
       "      <td>17</td>\n",
       "      <td>Devonshire</td>\n",
       "      <td>1722</td>\n",
       "      <td>354</td>\n",
       "      <td>THEFT OF IDENTITY</td>\n",
       "      <td>(34.2594, -118.5989)</td>\n",
       "    </tr>\n",
       "    <tr>\n",
       "      <th>1963737</th>\n",
       "      <td>101616449</td>\n",
       "      <td>08/29/2010</td>\n",
       "      <td>08/29/2010</td>\n",
       "      <td>237</td>\n",
       "      <td>16</td>\n",
       "      <td>Foothill</td>\n",
       "      <td>1685</td>\n",
       "      <td>230</td>\n",
       "      <td>ASSAULT WITH DEADLY WEAPON, AGGRAVATED ASSAULT</td>\n",
       "      <td>(34.2225, -118.3878)</td>\n",
       "    </tr>\n",
       "    <tr>\n",
       "      <th>1963738</th>\n",
       "      <td>181921345</td>\n",
       "      <td>12/04/2018</td>\n",
       "      <td>11/25/2010</td>\n",
       "      <td>1200</td>\n",
       "      <td>19</td>\n",
       "      <td>Mission</td>\n",
       "      <td>1935</td>\n",
       "      <td>310</td>\n",
       "      <td>BURGLARY</td>\n",
       "      <td>(34.2752, -118.4603)</td>\n",
       "    </tr>\n",
       "    <tr>\n",
       "      <th>1963739</th>\n",
       "      <td>100704828</td>\n",
       "      <td>01/18/2010</td>\n",
       "      <td>01/18/2010</td>\n",
       "      <td>2230</td>\n",
       "      <td>7</td>\n",
       "      <td>Wilshire</td>\n",
       "      <td>787</td>\n",
       "      <td>626</td>\n",
       "      <td>INTIMATE PARTNER - SIMPLE ASSAULT</td>\n",
       "      <td>(34.0366, -118.3357)</td>\n",
       "    </tr>\n",
       "    <tr>\n",
       "      <th>1963740</th>\n",
       "      <td>101200721</td>\n",
       "      <td>05/21/2010</td>\n",
       "      <td>05/20/2010</td>\n",
       "      <td>2300</td>\n",
       "      <td>12</td>\n",
       "      <td>77th Street</td>\n",
       "      <td>1245</td>\n",
       "      <td>121</td>\n",
       "      <td>RAPE, FORCIBLE</td>\n",
       "      <td>(33.977, -118.3046)</td>\n",
       "    </tr>\n",
       "    <tr>\n",
       "      <th>1963741</th>\n",
       "      <td>191005089</td>\n",
       "      <td>01/26/2019</td>\n",
       "      <td>01/01/2010</td>\n",
       "      <td>1000</td>\n",
       "      <td>10</td>\n",
       "      <td>West Valley</td>\n",
       "      <td>1029</td>\n",
       "      <td>354</td>\n",
       "      <td>THEFT OF IDENTITY</td>\n",
       "      <td>(34.1976, -118.4837)</td>\n",
       "    </tr>\n",
       "    <tr>\n",
       "      <th>1963742</th>\n",
       "      <td>191505220</td>\n",
       "      <td>01/24/2019</td>\n",
       "      <td>01/05/2010</td>\n",
       "      <td>700</td>\n",
       "      <td>15</td>\n",
       "      <td>N Hollywood</td>\n",
       "      <td>1555</td>\n",
       "      <td>341</td>\n",
       "      <td>THEFT-GRAND ($950.01 &amp; OVER)EXCPT,GUNS,FOWL,LI...</td>\n",
       "      <td>(34.1611, -118.3723)</td>\n",
       "    </tr>\n",
       "  </tbody>\n",
       "</table>\n",
       "<p>1963743 rows × 10 columns</p>\n",
       "</div>"
      ],
      "text/plain": [
       "         DR Number Date Reported Date Occurred  Time Occurred  Area ID  \\\n",
       "0         11401303    09/13/2010    09/12/2010             45       14   \n",
       "1         70309629    08/09/2010    08/09/2010           1515       13   \n",
       "2        100100508    01/08/2010    01/07/2010           2005        1   \n",
       "3        100100511    01/09/2010    01/06/2010           2100        1   \n",
       "4        100100523    01/15/2010    01/15/2010            245        1   \n",
       "5        100100552    01/23/2010    01/23/2010           1225        1   \n",
       "6        100100562    01/28/2010    01/28/2010           2345        1   \n",
       "7        100100575    02/01/2010    01/31/2010           1720        1   \n",
       "8        100100610    02/11/2010    02/10/2010           1800        1   \n",
       "9        100100616    02/11/2010    02/11/2010           1515        1   \n",
       "10       100100638    02/20/2010    02/20/2010            100        1   \n",
       "11       100100650    02/25/2010    02/25/2010             30        1   \n",
       "12       100100654    02/27/2010    02/27/2010           1955        1   \n",
       "13       100100660    03/01/2010    03/01/2010            100        1   \n",
       "14       100100697    03/12/2010    03/12/2010           1520        1   \n",
       "15       100100725    03/18/2010    03/18/2010             15        1   \n",
       "16       100100726    03/19/2010    03/19/2010           1000       13   \n",
       "17       100100733    03/21/2010    03/21/2010           1000       11   \n",
       "18       100100738    03/22/2010    03/19/2010           1730        1   \n",
       "19       100100740    03/25/2010    03/22/2010           1915        1   \n",
       "20       100100744    03/23/2010    03/23/2010            230        1   \n",
       "21       100100753    03/25/2010    03/25/2010            240        1   \n",
       "22       100100764    04/01/2010    03/29/2010           2320        1   \n",
       "23       100100792    04/10/2010    04/10/2010           1710        1   \n",
       "24       100100799    04/12/2010    04/12/2010           1700        1   \n",
       "25       100100802    04/14/2010    04/14/2010           1515        1   \n",
       "26       100100803    04/14/2010    04/14/2010            915        1   \n",
       "27       100100812    04/16/2010    04/16/2010            800        1   \n",
       "28       100100826    04/17/2010    04/17/2010           1300        1   \n",
       "29       100100828    04/17/2010    04/17/2010           1900        1   \n",
       "...            ...           ...           ...            ...      ...   \n",
       "1963713  120808296    04/12/2012    01/01/2010           1200        8   \n",
       "1963714  180515475    09/05/2018    09/05/2010           1230        5   \n",
       "1963715  180917470    09/13/2018    12/01/2010            730        9   \n",
       "1963716  110813454    08/02/2011    01/08/2010           1200        8   \n",
       "1963717  100815722    09/24/2010    09/22/2010           1500        8   \n",
       "1963718  180620846    09/25/2018    07/01/2010           1200        6   \n",
       "1963719  100222281    12/12/2010    12/12/2010           2045        2   \n",
       "1963720  181320736    10/09/2018    01/01/2010            700       13   \n",
       "1963721  181717346    10/09/2018    10/08/2010           1600       17   \n",
       "1963722  180220837    10/12/2018    10/09/2010           1600        2   \n",
       "1963723  180701156    10/05/2018    10/05/2010           2200        7   \n",
       "1963724  181820914    10/19/2018    10/19/2010           1000       18   \n",
       "1963725  101507386    02/25/2010    02/25/2010           2245       15   \n",
       "1963726  101921710    09/24/2010    09/21/2010           2020       19   \n",
       "1963727  101500719    03/08/2010    03/08/2010            200       15   \n",
       "1963728  151009500    05/14/2015    11/29/2010           1200       10   \n",
       "1963729  180719075    11/01/2018    11/17/2010            800        7   \n",
       "1963730  181919483    10/24/2018    10/19/2010           1700       19   \n",
       "1963731  100325895    11/11/2010    11/11/2010           1230        3   \n",
       "1963732  100629163    12/07/2010    12/07/2010            100        6   \n",
       "1963733  182118892    11/06/2018    01/01/2010              1       21   \n",
       "1963734  180623707    11/11/2018    11/11/2010           1815        6   \n",
       "1963735  181918983    10/14/2018    10/14/2010            500       19   \n",
       "1963736  181718975    11/16/2018    12/01/2010            900       17   \n",
       "1963737  101616449    08/29/2010    08/29/2010            237       16   \n",
       "1963738  181921345    12/04/2018    11/25/2010           1200       19   \n",
       "1963739  100704828    01/18/2010    01/18/2010           2230        7   \n",
       "1963740  101200721    05/21/2010    05/20/2010           2300       12   \n",
       "1963741  191005089    01/26/2019    01/01/2010           1000       10   \n",
       "1963742  191505220    01/24/2019    01/05/2010            700       15   \n",
       "\n",
       "           Area Name  Reporting District  Crime Code  \\\n",
       "0            Pacific                1485         740   \n",
       "1             Newton                1324         946   \n",
       "2            Central                 182         330   \n",
       "3            Central                 132         341   \n",
       "4            Central                 182         740   \n",
       "5            Central                 192         237   \n",
       "6            Central                 152         626   \n",
       "7            Central                 181         341   \n",
       "8            Central                 162         442   \n",
       "9            Central                 192         341   \n",
       "10           Central                 164         740   \n",
       "11           Central                 111         310   \n",
       "12           Central                 174         946   \n",
       "13           Central                 148         648   \n",
       "14           Central                 151         341   \n",
       "15           Central                 145         230   \n",
       "16            Newton                1307         624   \n",
       "17         Northeast                1171         946   \n",
       "18           Central                 195         627   \n",
       "19           Central                 142         230   \n",
       "20           Central                 101         740   \n",
       "21           Central                 171         946   \n",
       "22           Central                 176         740   \n",
       "23           Central                 135         210   \n",
       "24           Central                 111         740   \n",
       "25           Central                 155         946   \n",
       "26           Central                 161         341   \n",
       "27           Central                 152         441   \n",
       "28           Central                 124         745   \n",
       "29           Central                 111         930   \n",
       "...              ...                 ...         ...   \n",
       "1963713      West LA                 836         354   \n",
       "1963714       Harbor                 511         440   \n",
       "1963715     Van Nuys                 946         354   \n",
       "1963716      West LA                 839         341   \n",
       "1963717      West LA                 857         649   \n",
       "1963718    Hollywood                 678         354   \n",
       "1963719      Rampart                 202         940   \n",
       "1963720       Newton                1371         860   \n",
       "1963721   Devonshire                1735         331   \n",
       "1963722      Rampart                 205         745   \n",
       "1963723     Wilshire                 784         930   \n",
       "1963724    Southeast                1802         901   \n",
       "1963725  N Hollywood                1525         230   \n",
       "1963726      Mission                1944         624   \n",
       "1963727  N Hollywood                1532         121   \n",
       "1963728  West Valley                1088         668   \n",
       "1963729     Wilshire                 732         649   \n",
       "1963730      Mission                1984         740   \n",
       "1963731    Southwest                 331         740   \n",
       "1963732    Hollywood                 656         626   \n",
       "1963733      Topanga                2138         354   \n",
       "1963734    Hollywood                 679         210   \n",
       "1963735      Mission                1998         626   \n",
       "1963736   Devonshire                1722         354   \n",
       "1963737     Foothill                1685         230   \n",
       "1963738      Mission                1935         310   \n",
       "1963739     Wilshire                 787         626   \n",
       "1963740  77th Street                1245         121   \n",
       "1963741  West Valley                1029         354   \n",
       "1963742  N Hollywood                1555         341   \n",
       "\n",
       "                                    Crime Code Description  \\\n",
       "0        VANDALISM - FELONY ($400 & OVER, ALL CHURCH VA...   \n",
       "1                                OTHER MISCELLANEOUS CRIME   \n",
       "2                                    BURGLARY FROM VEHICLE   \n",
       "3        THEFT-GRAND ($950.01 & OVER)EXCPT,GUNS,FOWL,LI...   \n",
       "4        VANDALISM - FELONY ($400 & OVER, ALL CHURCH VA...   \n",
       "5                           CHILD NEGLECT (SEE 300 W.I.C.)   \n",
       "6                        INTIMATE PARTNER - SIMPLE ASSAULT   \n",
       "7        THEFT-GRAND ($950.01 & OVER)EXCPT,GUNS,FOWL,LI...   \n",
       "8                 SHOPLIFTING - PETTY THEFT ($950 & UNDER)   \n",
       "9        THEFT-GRAND ($950.01 & OVER)EXCPT,GUNS,FOWL,LI...   \n",
       "10       VANDALISM - FELONY ($400 & OVER, ALL CHURCH VA...   \n",
       "11                                                BURGLARY   \n",
       "12                               OTHER MISCELLANEOUS CRIME   \n",
       "13                                                   ARSON   \n",
       "14       THEFT-GRAND ($950.01 & OVER)EXCPT,GUNS,FOWL,LI...   \n",
       "15          ASSAULT WITH DEADLY WEAPON, AGGRAVATED ASSAULT   \n",
       "16                                BATTERY - SIMPLE ASSAULT   \n",
       "17                               OTHER MISCELLANEOUS CRIME   \n",
       "18                 CHILD ABUSE (PHYSICAL) - SIMPLE ASSAULT   \n",
       "19          ASSAULT WITH DEADLY WEAPON, AGGRAVATED ASSAULT   \n",
       "20       VANDALISM - FELONY ($400 & OVER, ALL CHURCH VA...   \n",
       "21                               OTHER MISCELLANEOUS CRIME   \n",
       "22       VANDALISM - FELONY ($400 & OVER, ALL CHURCH VA...   \n",
       "23                                                 ROBBERY   \n",
       "24       VANDALISM - FELONY ($400 & OVER, ALL CHURCH VA...   \n",
       "25                               OTHER MISCELLANEOUS CRIME   \n",
       "26       THEFT-GRAND ($950.01 & OVER)EXCPT,GUNS,FOWL,LI...   \n",
       "27                                   THEFT PLAIN - ATTEMPT   \n",
       "28                VANDALISM - MISDEAMEANOR ($399 OR UNDER)   \n",
       "29                  CRIMINAL THREATS - NO WEAPON DISPLAYED   \n",
       "...                                                    ...   \n",
       "1963713                                  THEFT OF IDENTITY   \n",
       "1963714                 THEFT PLAIN - PETTY ($950 & UNDER)   \n",
       "1963715                                  THEFT OF IDENTITY   \n",
       "1963716  THEFT-GRAND ($950.01 & OVER)EXCPT,GUNS,FOWL,LI...   \n",
       "1963717                   DOCUMENT FORGERY / STOLEN FELONY   \n",
       "1963718                                  THEFT OF IDENTITY   \n",
       "1963719                                          EXTORTION   \n",
       "1963720                        BATTERY WITH SEXUAL CONTACT   \n",
       "1963721   THEFT FROM MOTOR VEHICLE - GRAND ($400 AND OVER)   \n",
       "1963722           VANDALISM - MISDEAMEANOR ($399 OR UNDER)   \n",
       "1963723             CRIMINAL THREATS - NO WEAPON DISPLAYED   \n",
       "1963724                     VIOLATION OF RESTRAINING ORDER   \n",
       "1963725     ASSAULT WITH DEADLY WEAPON, AGGRAVATED ASSAULT   \n",
       "1963726                           BATTERY - SIMPLE ASSAULT   \n",
       "1963727                                     RAPE, FORCIBLE   \n",
       "1963728         EMBEZZLEMENT, GRAND THEFT ($950.01 & OVER)   \n",
       "1963729                   DOCUMENT FORGERY / STOLEN FELONY   \n",
       "1963730  VANDALISM - FELONY ($400 & OVER, ALL CHURCH VA...   \n",
       "1963731  VANDALISM - FELONY ($400 & OVER, ALL CHURCH VA...   \n",
       "1963732                  INTIMATE PARTNER - SIMPLE ASSAULT   \n",
       "1963733                                  THEFT OF IDENTITY   \n",
       "1963734                                            ROBBERY   \n",
       "1963735                  INTIMATE PARTNER - SIMPLE ASSAULT   \n",
       "1963736                                  THEFT OF IDENTITY   \n",
       "1963737     ASSAULT WITH DEADLY WEAPON, AGGRAVATED ASSAULT   \n",
       "1963738                                           BURGLARY   \n",
       "1963739                  INTIMATE PARTNER - SIMPLE ASSAULT   \n",
       "1963740                                     RAPE, FORCIBLE   \n",
       "1963741                                  THEFT OF IDENTITY   \n",
       "1963742  THEFT-GRAND ($950.01 & OVER)EXCPT,GUNS,FOWL,LI...   \n",
       "\n",
       "                    Location   \n",
       "0        (33.9599, -118.3962)  \n",
       "1        (34.0224, -118.2524)  \n",
       "2        (34.0389, -118.2643)  \n",
       "3        (34.0538, -118.2488)  \n",
       "4        (34.0409, -118.2609)  \n",
       "5        (34.0401, -118.2668)  \n",
       "6         (34.0502, -118.254)  \n",
       "7        (34.0437, -118.2652)  \n",
       "8         (34.048, -118.2577)  \n",
       "9        (34.0389, -118.2643)  \n",
       "10       (34.0439, -118.2514)  \n",
       "11       (34.0617, -118.2469)  \n",
       "12       (34.0445, -118.2523)  \n",
       "13       (34.0435, -118.2427)  \n",
       "14       (34.0499, -118.2614)  \n",
       "15       (34.0482, -118.2472)  \n",
       "16       (34.0371, -118.2475)  \n",
       "17       (34.0917, -118.2741)  \n",
       "18       (34.0317, -118.2641)  \n",
       "19       (34.0516, -118.2526)  \n",
       "20       (34.0717, -118.2493)  \n",
       "21       (34.0475, -118.2657)  \n",
       "22       (34.0373, -118.2503)  \n",
       "23       (34.0496, -118.2458)  \n",
       "24       (34.0672, -118.2385)  \n",
       "25        (34.0446, -118.249)  \n",
       "26       (34.0494, -118.2599)  \n",
       "27       (34.0467, -118.2556)  \n",
       "28       (34.0522, -118.2434)  \n",
       "29       (34.0582, -118.2387)  \n",
       "...                       ...  \n",
       "1963713  (34.0533, -118.4185)  \n",
       "1963714  (33.7925, -118.3012)  \n",
       "1963715  (34.1794, -118.4355)  \n",
       "1963716  (34.0587, -118.4159)  \n",
       "1963717  (34.0531, -118.3941)  \n",
       "1963718  (34.0863, -118.3064)  \n",
       "1963719  (34.0887, -118.2893)  \n",
       "1963720  (33.9933, -118.2783)  \n",
       "1963721  (34.2673, -118.5215)  \n",
       "1963722  (34.0825, -118.2753)  \n",
       "1963723  (34.0352, -118.3541)  \n",
       "1963724  (33.9586, -118.2739)  \n",
       "1963725  (34.1885, -118.3943)  \n",
       "1963726  (34.2689, -118.4429)  \n",
       "1963727  (34.1797, -118.4014)  \n",
       "1963728  (34.1576, -118.4923)  \n",
       "1963729  (34.0665, -118.3662)  \n",
       "1963730  (34.2265, -118.4565)  \n",
       "1963731  (34.0289, -118.3487)  \n",
       "1963732  (34.0872, -118.3222)  \n",
       "1963733  (34.2083, -118.5754)  \n",
       "1963734  (34.0908, -118.3019)  \n",
       "1963735  (34.2207, -118.4464)  \n",
       "1963736  (34.2594, -118.5989)  \n",
       "1963737  (34.2225, -118.3878)  \n",
       "1963738  (34.2752, -118.4603)  \n",
       "1963739  (34.0366, -118.3357)  \n",
       "1963740   (33.977, -118.3046)  \n",
       "1963741  (34.1976, -118.4837)  \n",
       "1963742  (34.1611, -118.3723)  \n",
       "\n",
       "[1963743 rows x 10 columns]"
      ]
     },
     "execution_count": 4,
     "metadata": {},
     "output_type": "execute_result"
    }
   ],
   "source": [
    "df = pd.read_csv('Crime_Data_from_2010_to_Present.csv')\n",
    "cols = ['DR Number', 'Date Reported', 'Date Occurred', 'Time Occurred', 'Area ID', 'Area Name', 'Reporting District', 'Crime Code', 'Crime Code Description', 'Location ']\n",
    "df = df[cols]\n",
    "df"
   ]
  },
  {
   "cell_type": "code",
   "execution_count": 5,
   "metadata": {},
   "outputs": [],
   "source": [
    "dates = {}\n",
    "\n",
    "def groupby_year():\n",
    "    # iterate over rows with iterrows()\n",
    "    for index, row in df.iterrows():\n",
    "        \n",
    "        # Drop all whitespace\n",
    "        date_occurred = row['Date Occurred'].strip()\n",
    "\n",
    "        # Extract year\n",
    "        year = date_occurred[-4:]\n",
    "\n",
    "        if year in dates:\n",
    "            dates[year].append(row)\n",
    "        else:\n",
    "            dates[year] = [row]\n",
    "\n",
    "groupby_year()"
   ]
  },
  {
   "cell_type": "code",
   "execution_count": 6,
   "metadata": {},
   "outputs": [],
   "source": [
    "def groupby_month(df):\n",
    "    months = {}\n",
    "    # iterate over rows with iterrows()\n",
    "    for index, row in df.iterrows():\n",
    "        \n",
    "        # Drop all whitespace\n",
    "        date_occurred = row['Date Occurred'].strip()\n",
    "\n",
    "        # Extract year\n",
    "        month = date_occurred[:2]\n",
    "\n",
    "        if month in months:\n",
    "            months[month].append(row)\n",
    "        else:\n",
    "            months[month] = [row]\n",
    "    return months"
   ]
  },
  {
   "cell_type": "markdown",
   "metadata": {},
   "source": [
    "#### Crimes in 2015"
   ]
  },
  {
   "cell_type": "code",
   "execution_count": 7,
   "metadata": {},
   "outputs": [],
   "source": [
    "crimes_2015_year = pd.DataFrame(data=dates['2015'])\n",
    "crimes_2015_months = {}\n",
    "\n",
    "# year 2015\n",
    "crimes_2015_months = groupby_month(crimes_2015_year)\n",
    "crimes_2015_01 = pd.DataFrame(data=(crimes_2015_months['01']))\n",
    "crimes_2015_02 = pd.DataFrame(data=(crimes_2015_months['02']))\n",
    "crimes_2015_03 = pd.DataFrame(data=(crimes_2015_months['03']))\n",
    "crimes_2015_04 = pd.DataFrame(data=(crimes_2015_months['04']))\n",
    "crimes_2015_05 = pd.DataFrame(data=(crimes_2015_months['05']))\n",
    "crimes_2015_06 = pd.DataFrame(data=(crimes_2015_months['06']))\n",
    "crimes_2015_07 = pd.DataFrame(data=(crimes_2015_months['07']))\n",
    "crimes_2015_08 = pd.DataFrame(data=(crimes_2015_months['08']))\n",
    "crimes_2015_09 = pd.DataFrame(data=(crimes_2015_months['09']))\n",
    "crimes_2015_10 = pd.DataFrame(data=(crimes_2015_months['10']))\n",
    "crimes_2015_11 = pd.DataFrame(data=(crimes_2015_months['11']))\n",
    "crimes_2015_12 = pd.DataFrame(data=(crimes_2015_months['12']))"
   ]
  },
  {
   "cell_type": "code",
   "execution_count": 8,
   "metadata": {},
   "outputs": [
    {
     "name": "stdout",
     "output_type": "stream",
     "text": [
      "Total crimes for all holidays in 2015: \n",
      "THEFT OF IDENTITY                    726\n",
      "BATTERY - SIMPLE ASSAULT             475\n",
      "INTIMATE PARTNER - SIMPLE ASSAULT    430\n",
      "VEHICLE - STOLEN                     414\n",
      "BURGLARY FROM VEHICLE                363\n",
      "Name: Crime Code Description, dtype: int64\n"
     ]
    }
   ],
   "source": [
    "Holi_2015 = [\"01/01/2015\", \"01/19/2015\", \"02/16/2015\", \"03/25/2015\", \"07/04/2015\", \"09/07/2015\", \"10/12/2015\", \n",
    "        \"11/11/2015\", \"11/26/2015\", \"12/25/2015\"]\n",
    "\n",
    "print (\"Total crimes for all holidays in 2015: \")\n",
    "print((crimes_2015_year.loc[crimes_2015_year['Date Occurred'].isin(Holi_2015)])[\"Crime Code Description\"].value_counts()[:10])"
   ]
  },
  {
   "cell_type": "code",
   "execution_count": 10,
   "metadata": {},
   "outputs": [
    {
     "data": {
      "text/plain": [
       "<matplotlib.axes._subplots.AxesSubplot at 0x7f0ea308eb70>"
      ]
     },
     "execution_count": 10,
     "metadata": {},
     "output_type": "execute_result"
    },
    {
     "data": {
      "image/png": "[encoded data removed]",
      "text/plain": [
       "<Figure size 432x288 with 1 Axes>"
      ]
     },
     "metadata": {
      "needs_background": "light"
     },
     "output_type": "display_data"
    }
   ],
   "source": [
    "(crimes_2015_year.loc[crimes_2015_year['Date Occurred'].isin(Holi_2015)])[\"Crime Code Description\"].value_counts()[:10].plot(kind='bar')"
   ]
  },
  {
   "cell_type": "code",
   "execution_count": 8,
   "metadata": {},
   "outputs": [
    {
     "name": "stdout",
     "output_type": "stream",
     "text": [
      "Top crimes for 01/01/2015\n",
      "THEFT OF IDENTITY                                           498\n",
      "CRM AGNST CHLD (13 OR UNDER) (14-15 & SUSP 10 YRS OLDER)     70\n",
      "BATTERY - SIMPLE ASSAULT                                     65\n",
      "INTIMATE PARTNER - SIMPLE ASSAULT                            53\n",
      "BURGLARY                                                     51\n",
      "Name: Crime Code Description, dtype: int64\n",
      "\n",
      "\n",
      "Top crimes for 01/19/2015\n",
      "BURGLARY FROM VEHICLE                                      47\n",
      "VEHICLE - STOLEN                                           44\n",
      "INTIMATE PARTNER - SIMPLE ASSAULT                          42\n",
      "BATTERY - SIMPLE ASSAULT                                   36\n",
      "VANDALISM - FELONY ($400 & OVER, ALL CHURCH VANDALISMS)    31\n",
      "Name: Crime Code Description, dtype: int64\n",
      "\n",
      "\n",
      "Top crimes for 02/16/2015\n",
      "BATTERY - SIMPLE ASSAULT                    52\n",
      "BURGLARY FROM VEHICLE                       43\n",
      "VANDALISM - MISDEAMEANOR ($399 OR UNDER)    39\n",
      "VEHICLE - STOLEN                            39\n",
      "THEFT PLAIN - PETTY ($950 & UNDER)          36\n",
      "Name: Crime Code Description, dtype: int64\n",
      "\n",
      "\n",
      "Top crimes for 03/25/2015\n",
      "BATTERY - SIMPLE ASSAULT              53\n",
      "THEFT PLAIN - PETTY ($950 & UNDER)    45\n",
      "INTIMATE PARTNER - SIMPLE ASSAULT     39\n",
      "BURGLARY                              37\n",
      "THEFT OF IDENTITY                     37\n",
      "Name: Crime Code Description, dtype: int64\n",
      "\n",
      "\n",
      "Top crimes for 07/04/2015\n",
      "INTIMATE PARTNER - SIMPLE ASSAULT                          67\n",
      "BATTERY - SIMPLE ASSAULT                                   48\n",
      "ASSAULT WITH DEADLY WEAPON, AGGRAVATED ASSAULT             44\n",
      "BURGLARY                                                   43\n",
      "VANDALISM - FELONY ($400 & OVER, ALL CHURCH VANDALISMS)    41\n",
      "Name: Crime Code Description, dtype: int64\n",
      "\n",
      "\n",
      "Top crimes for 09/07/2015\n",
      "INTIMATE PARTNER - SIMPLE ASSAULT                 58\n",
      "BATTERY - SIMPLE ASSAULT                          54\n",
      "VEHICLE - STOLEN                                  48\n",
      "THEFT PLAIN - PETTY ($950 & UNDER)                43\n",
      "ASSAULT WITH DEADLY WEAPON, AGGRAVATED ASSAULT    38\n",
      "Name: Crime Code Description, dtype: int64\n",
      "\n",
      "\n",
      "Top crimes for 10/12/2015\n",
      "BATTERY - SIMPLE ASSAULT                                   58\n",
      "THEFT OF IDENTITY                                          50\n",
      "VEHICLE - STOLEN                                           45\n",
      "INTIMATE PARTNER - SIMPLE ASSAULT                          40\n",
      "VANDALISM - FELONY ($400 & OVER, ALL CHURCH VANDALISMS)    38\n",
      "Name: Crime Code Description, dtype: int64\n",
      "\n",
      "\n",
      "Top crimes for 11/11/2015\n",
      "THEFT PLAIN - PETTY ($950 & UNDER)    44\n",
      "VEHICLE - STOLEN                      44\n",
      "BURGLARY FROM VEHICLE                 39\n",
      "BURGLARY                              35\n",
      "BATTERY - SIMPLE ASSAULT              30\n",
      "Name: Crime Code Description, dtype: int64\n",
      "\n",
      "\n",
      "Top crimes for 11/26/2015\n",
      "VEHICLE - STOLEN                                  41\n",
      "INTIMATE PARTNER - SIMPLE ASSAULT                 39\n",
      "BURGLARY                                          39\n",
      "BURGLARY FROM VEHICLE                             37\n",
      "ASSAULT WITH DEADLY WEAPON, AGGRAVATED ASSAULT    36\n",
      "Name: Crime Code Description, dtype: int64\n",
      "\n",
      "\n",
      "Top crimes for 12/25/2015\n",
      "BATTERY - SIMPLE ASSAULT                          51\n",
      "VEHICLE - STOLEN                                  51\n",
      "INTIMATE PARTNER - SIMPLE ASSAULT                 41\n",
      "BURGLARY FROM VEHICLE                             40\n",
      "ASSAULT WITH DEADLY WEAPON, AGGRAVATED ASSAULT    29\n",
      "Name: Crime Code Description, dtype: int64\n",
      "\n",
      "\n"
     ]
    }
   ],
   "source": [
    "for i in Holi_2015:\n",
    "    print (\"Top crimes for\", i)\n",
    "    print((crimes_2015_year.loc[crimes_2015_year['Date Occurred'] == i])[\"Crime Code Description\"].value_counts()[:5])\n",
    "    print(\"\\n\")"
   ]
  },
  {
   "cell_type": "code",
   "execution_count": 9,
   "metadata": {},
   "outputs": [
    {
     "data": {
      "text/plain": [
       "<matplotlib.axes._subplots.AxesSubplot at 0x7f8d34b3cb70>"
      ]
     },
     "execution_count": 9,
     "metadata": {},
     "output_type": "execute_result"
    },
    {
     "data": {
      "image/png": "[encoded data removed]",
      "text/plain": [
       "<Figure size 432x288 with 1 Axes>"
      ]
     },
     "metadata": {
      "needs_background": "light"
     },
     "output_type": "display_data"
    }
   ],
   "source": [
    "crimes_2015_01['Date Occurred'].value_counts().plot(kind='bar', title='January 2015')"
   ]
  },
  {
   "cell_type": "code",
   "execution_count": 10,
   "metadata": {},
   "outputs": [
    {
     "data": {
      "text/plain": [
       "<matplotlib.axes._subplots.AxesSubplot at 0x7f8d25481358>"
      ]
     },
     "execution_count": 10,
     "metadata": {},
     "output_type": "execute_result"
    },
    {
     "data": {
      "image/png": "[encoded data removed]",
      "text/plain": [
       "<Figure size 432x288 with 1 Axes>"
      ]
     },
     "metadata": {
      "needs_background": "light"
     },
     "output_type": "display_data"
    }
   ],
   "source": [
    "crimes_2015_02['Date Occurred'].value_counts().plot(kind='bar', title='February 2015')"
   ]
  },
  {
   "cell_type": "code",
   "execution_count": 11,
   "metadata": {},
   "outputs": [
    {
     "data": {
      "text/plain": [
       "<matplotlib.axes._subplots.AxesSubplot at 0x7f8d2543e7b8>"
      ]
     },
     "execution_count": 11,
     "metadata": {},
     "output_type": "execute_result"
    },
    {
     "data": {
      "image/png": "[encoded data removed]",
      "text/plain": [
       "<Figure size 432x288 with 1 Axes>"
      ]
     },
     "metadata": {
      "needs_background": "light"
     },
     "output_type": "display_data"
    }
   ],
   "source": [
    "crimes_2015_03['Date Occurred'].value_counts().plot(kind='bar', title='March 2015')"
   ]
  },
  {
   "cell_type": "code",
   "execution_count": 12,
   "metadata": {},
   "outputs": [
    {
     "name": "stdout",
     "output_type": "stream",
     "text": [
      "Top 3 crimes for 02/16/15: \n",
      "BATTERY - SIMPLE ASSAULT                    52\n",
      "BURGLARY FROM VEHICLE                       43\n",
      "VANDALISM - MISDEAMEANOR ($399 OR UNDER)    39\n",
      "VEHICLE - STOLEN                            39\n",
      "THEFT PLAIN - PETTY ($950 & UNDER)          36\n",
      "Name: Crime Code Description, dtype: int64\n"
     ]
    }
   ],
   "source": [
    "print (\"Top 3 crimes for 02/16/15: \")\n",
    "print((crimes_2015_02.loc[crimes_2015_02['Date Occurred'] == \"02/16/2015\"])[\"Crime Code Description\"].value_counts()[:5])"
   ]
  },
  {
   "cell_type": "code",
   "execution_count": 13,
   "metadata": {},
   "outputs": [
    {
     "data": {
      "text/plain": [
       "<matplotlib.axes._subplots.AxesSubplot at 0x7f8d25448470>"
      ]
     },
     "execution_count": 13,
     "metadata": {},
     "output_type": "execute_result"
    },
    {
     "data": {
      "image/png": "[encoded data removed]",
      "text/plain": [
       "<Figure size 432x288 with 1 Axes>"
      ]
     },
     "metadata": {
      "needs_background": "light"
     },
     "output_type": "display_data"
    }
   ],
   "source": [
    "crimes_2015_04['Date Occurred'].value_counts().plot(kind='bar', title='April 2015')"
   ]
  },
  {
   "cell_type": "code",
   "execution_count": 14,
   "metadata": {},
   "outputs": [
    {
     "data": {
      "text/plain": [
       "<matplotlib.axes._subplots.AxesSubplot at 0x7f8d2560b4e0>"
      ]
     },
     "execution_count": 14,
     "metadata": {},
     "output_type": "execute_result"
    },
    {
     "data": {
      "image/png": "[encoded data removed]",
      "text/plain": [
       "<Figure size 432x288 with 1 Axes>"
      ]
     },
     "metadata": {
      "needs_background": "light"
     },
     "output_type": "display_data"
    }
   ],
   "source": [
    "crimes_2015_05['Date Occurred'].value_counts().plot(kind='bar', title='May 2015')"
   ]
  },
  {
   "cell_type": "code",
   "execution_count": 15,
   "metadata": {},
   "outputs": [
    {
     "data": {
      "text/plain": [
       "<matplotlib.axes._subplots.AxesSubplot at 0x7f8d256735c0>"
      ]
     },
     "execution_count": 15,
     "metadata": {},
     "output_type": "execute_result"
    },
    {
     "data": {
      "image/png": "[encoded data removed]",
      "text/plain": [
       "<Figure size 432x288 with 1 Axes>"
      ]
     },
     "metadata": {
      "needs_background": "light"
     },
     "output_type": "display_data"
    }
   ],
   "source": [
    "crimes_2015_06['Date Occurred'].value_counts().plot(kind='bar', title='June 2015')"
   ]
  },
  {
   "cell_type": "code",
   "execution_count": 16,
   "metadata": {},
   "outputs": [
    {
     "data": {
      "text/plain": [
       "<matplotlib.axes._subplots.AxesSubplot at 0x7f8d2539b860>"
      ]
     },
     "execution_count": 16,
     "metadata": {},
     "output_type": "execute_result"
    },
    {
     "data": {
      "image/png": "[encoded data removed]",
      "text/plain": [
       "<Figure size 432x288 with 1 Axes>"
      ]
     },
     "metadata": {
      "needs_background": "light"
     },
     "output_type": "display_data"
    }
   ],
   "source": [
    "crimes_2015_07['Date Occurred'].value_counts().plot(kind='bar', title='July 2015')"
   ]
  },
  {
   "cell_type": "code",
   "execution_count": 17,
   "metadata": {},
   "outputs": [
    {
     "data": {
      "text/plain": [
       "<matplotlib.axes._subplots.AxesSubplot at 0x7f8d1592ccf8>"
      ]
     },
     "execution_count": 17,
     "metadata": {},
     "output_type": "execute_result"
    },
    {
     "data": {
      "image/png": "[encoded data removed]",
      "text/plain": [
       "<Figure size 432x288 with 1 Axes>"
      ]
     },
     "metadata": {
      "needs_background": "light"
     },
     "output_type": "display_data"
    }
   ],
   "source": [
    "crimes_2015_08['Date Occurred'].value_counts().plot(kind='bar', title='August 2015')"
   ]
  },
  {
   "cell_type": "code",
   "execution_count": 18,
   "metadata": {},
   "outputs": [
    {
     "data": {
      "text/plain": [
       "<matplotlib.axes._subplots.AxesSubplot at 0x7f8d15775668>"
      ]
     },
     "execution_count": 18,
     "metadata": {},
     "output_type": "execute_result"
    },
    {
     "data": {
      "image/png": "[encoded data removed]",
      "text/plain": [
       "<Figure size 432x288 with 1 Axes>"
      ]
     },
     "metadata": {
      "needs_background": "light"
     },
     "output_type": "display_data"
    }
   ],
   "source": [
    "crimes_2015_09['Date Occurred'].value_counts().plot(kind='bar', title='September 2015')"
   ]
  },
  {
   "cell_type": "code",
   "execution_count": 11,
   "metadata": {},
   "outputs": [
    {
     "data": {
      "text/plain": [
       "<matplotlib.axes._subplots.AxesSubplot at 0x7f0ea314e6d8>"
      ]
     },
     "execution_count": 11,
     "metadata": {},
     "output_type": "execute_result"
    },
    {
     "data": {
      "image/png": "[encoded data removed]",
      "text/plain": [
       "<Figure size 432x288 with 1 Axes>"
      ]
     },
     "metadata": {
      "needs_background": "light"
     },
     "output_type": "display_data"
    }
   ],
   "source": [
    "crimes_2015_10['Date Occurred'].value_counts().plot(kind='bar', title='October 2015')"
   ]
  },
  {
   "cell_type": "code",
   "execution_count": 12,
   "metadata": {},
   "outputs": [
    {
     "data": {
      "text/plain": [
       "<matplotlib.axes._subplots.AxesSubplot at 0x7f0ea2f2e0f0>"
      ]
     },
     "execution_count": 12,
     "metadata": {},
     "output_type": "execute_result"
    },
    {
     "data": {
      "image/png": "[encoded data removed]",
      "text/plain": [
       "<Figure size 432x288 with 1 Axes>"
      ]
     },
     "metadata": {
      "needs_background": "light"
     },
     "output_type": "display_data"
    }
   ],
   "source": [
    "crimes_2015_11['Date Occurred'].value_counts().plot(kind='bar', title='November 2015')"
   ]
  },
  {
   "cell_type": "code",
   "execution_count": 13,
   "metadata": {},
   "outputs": [
    {
     "data": {
      "text/plain": [
       "<matplotlib.axes._subplots.AxesSubplot at 0x7f0eb15a6cf8>"
      ]
     },
     "execution_count": 13,
     "metadata": {},
     "output_type": "execute_result"
    },
    {
     "data": {
      "image/png": "[encoded data removed]",
      "text/plain": [
       "<Figure size 432x288 with 1 Axes>"
      ]
     },
     "metadata": {
      "needs_background": "light"
     },
     "output_type": "display_data"
    }
   ],
   "source": [
    "crimes_2015_12['Date Occurred'].value_counts().plot(kind='bar', title='December 2015')"
   ]
  },
  {
   "cell_type": "markdown",
   "metadata": {},
   "source": [
    "#### Crimes in 2016"
   ]
  },
  {
   "cell_type": "code",
   "execution_count": 14,
   "metadata": {},
   "outputs": [],
   "source": [
    "crimes_2016_year = pd.DataFrame(data=dates['2016'])\n",
    "crimes_2016_months = {}\n",
    "\n",
    "# year 2016\n",
    "crimes_2016_months = groupby_month(crimes_2016_year)\n",
    "crimes_2016_01 = pd.DataFrame(data=(crimes_2016_months['01']))\n",
    "crimes_2016_02 = pd.DataFrame(data=(crimes_2016_months['02']))\n",
    "crimes_2016_03 = pd.DataFrame(data=(crimes_2016_months['03']))\n",
    "crimes_2016_04 = pd.DataFrame(data=(crimes_2016_months['04']))\n",
    "crimes_2016_05 = pd.DataFrame(data=(crimes_2016_months['05']))\n",
    "crimes_2016_06 = pd.DataFrame(data=(crimes_2016_months['06']))\n",
    "crimes_2016_07 = pd.DataFrame(data=(crimes_2016_months['07']))\n",
    "crimes_2016_08 = pd.DataFrame(data=(crimes_2016_months['08']))\n",
    "crimes_2016_09 = pd.DataFrame(data=(crimes_2016_months['09']))\n",
    "crimes_2016_10 = pd.DataFrame(data=(crimes_2016_months['10']))\n",
    "crimes_2016_11 = pd.DataFrame(data=(crimes_2016_months['11']))\n",
    "crimes_2016_12 = pd.DataFrame(data=(crimes_2016_months['12']))"
   ]
  },
  {
   "cell_type": "code",
   "execution_count": 15,
   "metadata": {},
   "outputs": [
    {
     "name": "stdout",
     "output_type": "stream",
     "text": [
      "Total crimes for all holidays in 2015: \n",
      "THEFT OF IDENTITY                    603\n",
      "BATTERY - SIMPLE ASSAULT             533\n",
      "VEHICLE - STOLEN                     482\n",
      "BURGLARY FROM VEHICLE                440\n",
      "INTIMATE PARTNER - SIMPLE ASSAULT    407\n",
      "Name: Crime Code Description, dtype: int64\n"
     ]
    }
   ],
   "source": [
    "Holi_2016 = [\"01/01/2016\", \"01/18/2016\", \"02/15/2016\", \"03/30/2016\", \"07/04/2016\", \"09/05/2016\", \"10/10/2016\", \n",
    "        \"11/11/2016\", \"11/24/2016\", \"12/25/2016\"]\n",
    "\n",
    "print (\"Total crimes for all holidays in 2015: \")\n",
    "print((crimes_2016_year.loc[crimes_2016_year['Date Occurred'].isin(Holi_2016)])[\"Crime Code Description\"].value_counts()[:5])"
   ]
  },
  {
   "cell_type": "code",
   "execution_count": 16,
   "metadata": {},
   "outputs": [
    {
     "data": {
      "text/plain": [
       "<matplotlib.axes._subplots.AxesSubplot at 0x7f0ea300fb38>"
      ]
     },
     "execution_count": 16,
     "metadata": {},
     "output_type": "execute_result"
    },
    {
     "data": {
      "image/png": "[encoded data removed]",
      "text/plain": [
       "<Figure size 432x288 with 1 Axes>"
      ]
     },
     "metadata": {
      "needs_background": "light"
     },
     "output_type": "display_data"
    }
   ],
   "source": [
    "(crimes_2016_year.loc[crimes_2016_year['Date Occurred'].isin(Holi_2016)])[\"Crime Code Description\"].value_counts()[:10].plot(kind='bar')"
   ]
  },
  {
   "cell_type": "code",
   "execution_count": 17,
   "metadata": {},
   "outputs": [
    {
     "name": "stdout",
     "output_type": "stream",
     "text": [
      "Top crimes for 01/01/2016\n",
      "THEFT OF IDENTITY                                           377\n",
      "BATTERY - SIMPLE ASSAULT                                     76\n",
      "CRM AGNST CHLD (13 OR UNDER) (14-15 & SUSP 10 YRS OLDER)     64\n",
      "INTIMATE PARTNER - SIMPLE ASSAULT                            59\n",
      "BURGLARY                                                     54\n",
      "Name: Crime Code Description, dtype: int64\n",
      "\n",
      "\n",
      "Top crimes for 01/18/2016\n",
      "VEHICLE - STOLEN                            58\n",
      "BATTERY - SIMPLE ASSAULT                    54\n",
      "BURGLARY FROM VEHICLE                       45\n",
      "THEFT PLAIN - PETTY ($950 & UNDER)          38\n",
      "VANDALISM - MISDEAMEANOR ($399 OR UNDER)    32\n",
      "Name: Crime Code Description, dtype: int64\n",
      "\n",
      "\n",
      "Top crimes for 02/15/2016\n",
      "BATTERY - SIMPLE ASSAULT              53\n",
      "INTIMATE PARTNER - SIMPLE ASSAULT     41\n",
      "VEHICLE - STOLEN                      40\n",
      "THEFT PLAIN - PETTY ($950 & UNDER)    37\n",
      "BURGLARY FROM VEHICLE                 34\n",
      "Name: Crime Code Description, dtype: int64\n",
      "\n",
      "\n",
      "Top crimes for 03/30/2016\n",
      "THEFT PLAIN - PETTY ($950 & UNDER)                56\n",
      "BATTERY - SIMPLE ASSAULT                          50\n",
      "ASSAULT WITH DEADLY WEAPON, AGGRAVATED ASSAULT    39\n",
      "THEFT OF IDENTITY                                 37\n",
      "BURGLARY                                          37\n",
      "Name: Crime Code Description, dtype: int64\n",
      "\n",
      "\n",
      "Top crimes for 07/04/2016\n",
      "BATTERY - SIMPLE ASSAULT                                   54\n",
      "VANDALISM - FELONY ($400 & OVER, ALL CHURCH VANDALISMS)    50\n",
      "INTIMATE PARTNER - SIMPLE ASSAULT                          49\n",
      "ASSAULT WITH DEADLY WEAPON, AGGRAVATED ASSAULT             48\n",
      "THEFT PLAIN - PETTY ($950 & UNDER)                         47\n",
      "Name: Crime Code Description, dtype: int64\n",
      "\n",
      "\n",
      "Top crimes for 09/05/2016\n",
      "BATTERY - SIMPLE ASSAULT                          54\n",
      "VEHICLE - STOLEN                                  50\n",
      "BURGLARY FROM VEHICLE                             47\n",
      "ASSAULT WITH DEADLY WEAPON, AGGRAVATED ASSAULT    43\n",
      "THEFT PLAIN - PETTY ($950 & UNDER)                42\n",
      "Name: Crime Code Description, dtype: int64\n",
      "\n",
      "\n",
      "Top crimes for 10/10/2016\n",
      "BATTERY - SIMPLE ASSAULT              52\n",
      "VEHICLE - STOLEN                      50\n",
      "BURGLARY                              46\n",
      "THEFT PLAIN - PETTY ($950 & UNDER)    43\n",
      "BURGLARY FROM VEHICLE                 43\n",
      "Name: Crime Code Description, dtype: int64\n",
      "\n",
      "\n",
      "Top crimes for 11/11/2016\n",
      "VEHICLE - STOLEN                      60\n",
      "BURGLARY FROM VEHICLE                 55\n",
      "INTIMATE PARTNER - SIMPLE ASSAULT     47\n",
      "BATTERY - SIMPLE ASSAULT              45\n",
      "THEFT PLAIN - PETTY ($950 & UNDER)    41\n",
      "Name: Crime Code Description, dtype: int64\n",
      "\n",
      "\n",
      "Top crimes for 11/24/2016\n",
      "VEHICLE - STOLEN                                           63\n",
      "BATTERY - SIMPLE ASSAULT                                   56\n",
      "BURGLARY FROM VEHICLE                                      46\n",
      "VANDALISM - FELONY ($400 & OVER, ALL CHURCH VANDALISMS)    41\n",
      "BURGLARY                                                   38\n",
      "Name: Crime Code Description, dtype: int64\n",
      "\n",
      "\n",
      "Top crimes for 12/25/2016\n",
      "BURGLARY FROM VEHICLE                                      49\n",
      "INTIMATE PARTNER - SIMPLE ASSAULT                          47\n",
      "VEHICLE - STOLEN                                           45\n",
      "VANDALISM - FELONY ($400 & OVER, ALL CHURCH VANDALISMS)    44\n",
      "BATTERY - SIMPLE ASSAULT                                   39\n",
      "Name: Crime Code Description, dtype: int64\n",
      "\n",
      "\n"
     ]
    }
   ],
   "source": [
    "for i in Holi_2016:\n",
    "    print (\"Top crimes for\", i)\n",
    "    print((crimes_2016_year.loc[crimes_2016_year['Date Occurred'] == i])[\"Crime Code Description\"].value_counts()[:5])\n",
    "    print(\"\\n\")"
   ]
  },
  {
   "cell_type": "code",
   "execution_count": 18,
   "metadata": {},
   "outputs": [
    {
     "data": {
      "text/plain": [
       "<matplotlib.axes._subplots.AxesSubplot at 0x7f0e7ecff748>"
      ]
     },
     "execution_count": 18,
     "metadata": {},
     "output_type": "execute_result"
    },
    {
     "data": {
      "image/png": "[encoded data removed]",
      "text/plain": [
       "<Figure size 432x288 with 1 Axes>"
      ]
     },
     "metadata": {
      "needs_background": "light"
     },
     "output_type": "display_data"
    }
   ],
   "source": [
    "crimes_2016_01['Date Occurred'].value_counts().plot(kind='bar', title='January 2016')"
   ]
  },
  {
   "cell_type": "code",
   "execution_count": 19,
   "metadata": {},
   "outputs": [
    {
     "data": {
      "text/plain": [
       "<matplotlib.axes._subplots.AxesSubplot at 0x7f0e91379ba8>"
      ]
     },
     "execution_count": 19,
     "metadata": {},
     "output_type": "execute_result"
    },
    {
     "data": {
      "image/png": "[encoded data removed]",
      "text/plain": [
       "<Figure size 432x288 with 1 Axes>"
      ]
     },
     "metadata": {
      "needs_background": "light"
     },
     "output_type": "display_data"
    }
   ],
   "source": [
    "crimes_2016_02['Date Occurred'].value_counts().plot(kind='bar', title='February 2016')"
   ]
  },
  {
   "cell_type": "code",
   "execution_count": 20,
   "metadata": {},
   "outputs": [
    {
     "data": {
      "text/plain": [
       "<matplotlib.axes._subplots.AxesSubplot at 0x7f0e7eeb4828>"
      ]
     },
     "execution_count": 20,
     "metadata": {},
     "output_type": "execute_result"
    },
    {
     "data": {
      "image/png": "[encoded data removed]",
      "text/plain": [
       "<Figure size 432x288 with 1 Axes>"
      ]
     },
     "metadata": {
      "needs_background": "light"
     },
     "output_type": "display_data"
    }
   ],
   "source": [
    "crimes_2016_03['Date Occurred'].value_counts().plot(kind='bar', title='March 2016')"
   ]
  },
  {
   "cell_type": "code",
   "execution_count": 21,
   "metadata": {},
   "outputs": [
    {
     "data": {
      "text/plain": [
       "<matplotlib.axes._subplots.AxesSubplot at 0x7f0e7edd82b0>"
      ]
     },
     "execution_count": 21,
     "metadata": {},
     "output_type": "execute_result"
    },
    {
     "data": {
      "image/png": "[encoded data removed]",
      "text/plain": [
       "<Figure size 432x288 with 1 Axes>"
      ]
     },
     "metadata": {
      "needs_background": "light"
     },
     "output_type": "display_data"
    }
   ],
   "source": [
    "crimes_2016_04['Date Occurred'].value_counts().plot(kind='bar', title='April 2016')"
   ]
  },
  {
   "cell_type": "code",
   "execution_count": 22,
   "metadata": {},
   "outputs": [
    {
     "data": {
      "text/plain": [
       "<matplotlib.axes._subplots.AxesSubplot at 0x7f0e91414860>"
      ]
     },
     "execution_count": 22,
     "metadata": {},
     "output_type": "execute_result"
    },
    {
     "data": {
      "image/png": "[encoded data removed]",
      "text/plain": [
       "<Figure size 432x288 with 1 Axes>"
      ]
     },
     "metadata": {
      "needs_background": "light"
     },
     "output_type": "display_data"
    }
   ],
   "source": [
    "crimes_2016_05['Date Occurred'].value_counts().plot(kind='bar', title='May 2016')"
   ]
  },
  {
   "cell_type": "code",
   "execution_count": 23,
   "metadata": {},
   "outputs": [
    {
     "data": {
      "text/plain": [
       "<matplotlib.axes._subplots.AxesSubplot at 0x7f0e912d8710>"
      ]
     },
     "execution_count": 23,
     "metadata": {},
     "output_type": "execute_result"
    },
    {
     "data": {
      "image/png": "[encoded data removed]",
      "text/plain": [
       "<Figure size 432x288 with 1 Axes>"
      ]
     },
     "metadata": {
      "needs_background": "light"
     },
     "output_type": "display_data"
    }
   ],
   "source": [
    "crimes_2016_06['Date Occurred'].value_counts().plot(kind='bar', title='June 2016')"
   ]
  },
  {
   "cell_type": "code",
   "execution_count": 24,
   "metadata": {},
   "outputs": [
    {
     "data": {
      "text/plain": [
       "<matplotlib.axes._subplots.AxesSubplot at 0x7f0e914721d0>"
      ]
     },
     "execution_count": 24,
     "metadata": {},
     "output_type": "execute_result"
    },
    {
     "data": {
      "image/png": "[encoded data removed]",
      "text/plain": [
       "<Figure size 432x288 with 1 Axes>"
      ]
     },
     "metadata": {
      "needs_background": "light"
     },
     "output_type": "display_data"
    }
   ],
   "source": [
    "crimes_2016_07['Date Occurred'].value_counts().plot(kind='bar', title='July 2016')"
   ]
  },
  {
   "cell_type": "code",
   "execution_count": 25,
   "metadata": {},
   "outputs": [
    {
     "data": {
      "text/plain": [
       "<matplotlib.axes._subplots.AxesSubplot at 0x7f0e9111cbe0>"
      ]
     },
     "execution_count": 25,
     "metadata": {},
     "output_type": "execute_result"
    },
    {
     "data": {
      "image/png": "[encoded data removed]",
      "text/plain": [
       "<Figure size 432x288 with 1 Axes>"
      ]
     },
     "metadata": {
      "needs_background": "light"
     },
     "output_type": "display_data"
    }
   ],
   "source": [
    "crimes_2016_08['Date Occurred'].value_counts().plot(kind='bar', title='August 2016')"
   ]
  },
  {
   "cell_type": "code",
   "execution_count": 26,
   "metadata": {},
   "outputs": [
    {
     "data": {
      "text/plain": [
       "<matplotlib.axes._subplots.AxesSubplot at 0x7f0e91127550>"
      ]
     },
     "execution_count": 26,
     "metadata": {},
     "output_type": "execute_result"
    },
    {
     "data": {
      "image/png": "[encoded data removed]",
      "text/plain": [
       "<Figure size 432x288 with 1 Axes>"
      ]
     },
     "metadata": {
      "needs_background": "light"
     },
     "output_type": "display_data"
    }
   ],
   "source": [
    "crimes_2016_09['Date Occurred'].value_counts().plot(kind='bar', title='September 2016')"
   ]
  },
  {
   "cell_type": "code",
   "execution_count": 27,
   "metadata": {},
   "outputs": [
    {
     "data": {
      "text/plain": [
       "<matplotlib.axes._subplots.AxesSubplot at 0x7f0e90fd2518>"
      ]
     },
     "execution_count": 27,
     "metadata": {},
     "output_type": "execute_result"
    },
    {
     "data": {
      "image/png": "[encoded data removed]",
      "text/plain": [
       "<Figure size 432x288 with 1 Axes>"
      ]
     },
     "metadata": {
      "needs_background": "light"
     },
     "output_type": "display_data"
    }
   ],
   "source": [
    "crimes_2016_10['Date Occurred'].value_counts().plot(kind='bar', title='October 2016')"
   ]
  },
  {
   "cell_type": "code",
   "execution_count": 2,
   "metadata": {},
   "outputs": [
    {
     "ename": "NameError",
     "evalue": "name 'crimes_2016_11' is not defined",
     "output_type": "error",
     "traceback": [
      "\u001b[0;31m---------------------------------------------------------------------------\u001b[0m",
      "\u001b[0;31mNameError\u001b[0m                                 Traceback (most recent call last)",
      "\u001b[0;32m<ipython-input-2-b65e4353527e>\u001b[0m in \u001b[0;36m<module>\u001b[0;34m()\u001b[0m\n\u001b[0;32m----> 1\u001b[0;31m \u001b[0mcrimes_2016_11\u001b[0m\u001b[0;34m[\u001b[0m\u001b[0;34m'Date Occurred'\u001b[0m\u001b[0;34m]\u001b[0m\u001b[0;34m.\u001b[0m\u001b[0mvalue_counts\u001b[0m\u001b[0;34m(\u001b[0m\u001b[0;34m)\u001b[0m\u001b[0;34m.\u001b[0m\u001b[0mplot\u001b[0m\u001b[0;34m(\u001b[0m\u001b[0mkind\u001b[0m\u001b[0;34m=\u001b[0m\u001b[0;34m'bar'\u001b[0m\u001b[0;34m,\u001b[0m \u001b[0mtitle\u001b[0m\u001b[0;34m=\u001b[0m\u001b[0;34m'November 2016'\u001b[0m\u001b[0;34m)\u001b[0m\u001b[0;34m\u001b[0m\u001b[0;34m\u001b[0m\u001b[0m\n\u001b[0m",
      "\u001b[0;31mNameError\u001b[0m: name 'crimes_2016_11' is not defined"
     ]
    }
   ],
   "source": [
    "crimes_2016_11['Date Occurred'].value_counts().plot(kind='bar', title='November 2016')"
   ]
  },
  {
   "cell_type": "code",
   "execution_count": null,
   "metadata": {},
   "outputs": [],
   "source": [
    "crimes_2016_12['Date Occurred'].value_counts().plot(kind='bar', title='December 2016')"
   ]
  },
  {
   "cell_type": "markdown",
   "metadata": {},
   "source": [
    "#### Crimes in 2017"
   ]
  },
  {
   "cell_type": "code",
   "execution_count": null,
   "metadata": {},
   "outputs": [],
   "source": [
    "crimes_2017_year = pd.DataFrame(data=dates['2017'])\n",
    "crimes_2017_months = {}\n",
    "\n",
    "# year 2017\n",
    "crimes_2017_months = groupby_month(crimes_2017_year)\n",
    "crimes_2017_01 = pd.DataFrame(data=(crimes_2017_months['01']))\n",
    "crimes_2017_02 = pd.DataFrame(data=(crimes_2017_months['02']))\n",
    "crimes_2017_03 = pd.DataFrame(data=(crimes_2017_months['03']))\n",
    "crimes_2017_04 = pd.DataFrame(data=(crimes_2017_months['04']))\n",
    "crimes_2017_05 = pd.DataFrame(data=(crimes_2017_months['05']))\n",
    "crimes_2017_06 = pd.DataFrame(data=(crimes_2017_months['06']))\n",
    "crimes_2017_07 = pd.DataFrame(data=(crimes_2017_months['07']))\n",
    "crimes_2017_08 = pd.DataFrame(data=(crimes_2017_months['08']))\n",
    "crimes_2017_09 = pd.DataFrame(data=(crimes_2017_months['09']))\n",
    "crimes_2017_10 = pd.DataFrame(data=(crimes_2017_months['10']))\n",
    "crimes_2017_11 = pd.DataFrame(data=(crimes_2017_months['11']))\n",
    "crimes_2017_12 = pd.DataFrame(data=(crimes_2017_months['12']))"
   ]
  },
  {
   "cell_type": "code",
   "execution_count": null,
   "metadata": {},
   "outputs": [],
   "source": [
    "Holi_2017 = [\"01/01/2017\", \"01/16/2017\", \"02/20/2017\", \"03/29/2017\", \"07/04/2017\", \"09/04/2017\", \"10/09/2017\", \n",
    "        \"11/11/2017\", \"11/23/2017\", \"12/25/2017\"]\n",
    "\n",
    "print (\"Total crimes for all holidays in 2017: \")\n",
    "print((crimes_2017_year.loc[crimes_2017_year['Date Occurred'].isin(Holi_2017)])[\"Crime Code Description\"].value_counts()[:5])"
   ]
  },
  {
   "cell_type": "code",
   "execution_count": null,
   "metadata": {},
   "outputs": [],
   "source": [
    "(crimes_2017_year.loc[crimes_2017_year['Date Occurred'].isin(Holi_2017)])[\"Crime Code Description\"].value_counts()[:10].plot(kind='bar')"
   ]
  },
  {
   "cell_type": "code",
   "execution_count": null,
   "metadata": {},
   "outputs": [],
   "source": [
    "for i in Holi_2017:\n",
    "    print (\"Top crimes for\", i)\n",
    "    print((crimes_2017_year.loc[crimes_2017_year['Date Occurred'] == i])[\"Crime Code Description\"].value_counts()[:5])\n",
    "    print(\"\\n\")"
   ]
  },
  {
   "cell_type": "code",
   "execution_count": null,
   "metadata": {},
   "outputs": [],
   "source": [
    "crimes_2017_01['Date Occurred'].value_counts().plot(kind='bar', title='January 2017')"
   ]
  },
  {
   "cell_type": "code",
   "execution_count": null,
   "metadata": {},
   "outputs": [],
   "source": [
    "crimes_2017_02['Date Occurred'].value_counts().plot(kind='bar', title='February 2017')"
   ]
  },
  {
   "cell_type": "code",
   "execution_count": null,
   "metadata": {},
   "outputs": [],
   "source": [
    "crimes_2017_03['Date Occurred'].value_counts().plot(kind='bar', title='March 2017')"
   ]
  },
  {
   "cell_type": "code",
   "execution_count": null,
   "metadata": {},
   "outputs": [],
   "source": [
    "crimes_2017_04['Date Occurred'].value_counts().plot(kind='bar', title='April 2017')"
   ]
  },
  {
   "cell_type": "code",
   "execution_count": null,
   "metadata": {},
   "outputs": [],
   "source": [
    "crimes_2017_05['Date Occurred'].value_counts().plot(kind='bar', title='May 2017')"
   ]
  },
  {
   "cell_type": "code",
   "execution_count": null,
   "metadata": {},
   "outputs": [],
   "source": [
    "crimes_2017_06['Date Occurred'].value_counts().plot(kind='bar', title='June 2017')"
   ]
  },
  {
   "cell_type": "code",
   "execution_count": null,
   "metadata": {},
   "outputs": [],
   "source": [
    "crimes_2017_07['Date Occurred'].value_counts().plot(kind='bar', title='July 2017')"
   ]
  },
  {
   "cell_type": "code",
   "execution_count": null,
   "metadata": {},
   "outputs": [],
   "source": [
    "crimes_2017_08['Date Occurred'].value_counts().plot(kind='bar', title='August 2017')"
   ]
  },
  {
   "cell_type": "code",
   "execution_count": null,
   "metadata": {},
   "outputs": [],
   "source": [
    "crimes_2017_09['Date Occurred'].value_counts().plot(kind='bar', title='September 2017')"
   ]
  },
  {
   "cell_type": "code",
   "execution_count": null,
   "metadata": {},
   "outputs": [],
   "source": [
    "crimes_2017_10['Date Occurred'].value_counts().plot(kind='bar', title='October 2017')"
   ]
  },
  {
   "cell_type": "code",
   "execution_count": 3,
   "metadata": {},
   "outputs": [
    {
     "ename": "NameError",
     "evalue": "name 'crimes_2017_11' is not defined",
     "output_type": "error",
     "traceback": [
      "\u001b[0;31m---------------------------------------------------------------------------\u001b[0m",
      "\u001b[0;31mNameError\u001b[0m                                 Traceback (most recent call last)",
      "\u001b[0;32m<ipython-input-3-41848cb23ebe>\u001b[0m in \u001b[0;36m<module>\u001b[0;34m()\u001b[0m\n\u001b[0;32m----> 1\u001b[0;31m \u001b[0mcrimes_2017_11\u001b[0m\u001b[0;34m[\u001b[0m\u001b[0;34m'Date Occurred'\u001b[0m\u001b[0;34m]\u001b[0m\u001b[0;34m.\u001b[0m\u001b[0mvalue_counts\u001b[0m\u001b[0;34m(\u001b[0m\u001b[0;34m)\u001b[0m\u001b[0;34m.\u001b[0m\u001b[0mplot\u001b[0m\u001b[0;34m(\u001b[0m\u001b[0mkind\u001b[0m\u001b[0;34m=\u001b[0m\u001b[0;34m'bar'\u001b[0m\u001b[0;34m,\u001b[0m \u001b[0mtitle\u001b[0m\u001b[0;34m=\u001b[0m\u001b[0;34m'November 2017'\u001b[0m\u001b[0;34m)\u001b[0m\u001b[0;34m\u001b[0m\u001b[0;34m\u001b[0m\u001b[0m\n\u001b[0m",
      "\u001b[0;31mNameError\u001b[0m: name 'crimes_2017_11' is not defined"
     ]
    }
   ],
   "source": [
    "crimes_2017_11['Date Occurred'].value_counts().plot(kind='bar', title='November 2017')"
   ]
  },
  {
   "cell_type": "code",
   "execution_count": null,
   "metadata": {},
   "outputs": [],
   "source": [
    "crimes_2017_12['Date Occurred'].value_counts().plot(kind='bar', title='December 2017')"
   ]
  },
  {
   "cell_type": "markdown",
   "metadata": {},
   "source": [
    "#### Crimes in 2018"
   ]
  },
  {
   "cell_type": "code",
   "execution_count": null,
   "metadata": {},
   "outputs": [],
   "source": [
    "crimes_2018_year = pd.DataFrame(data=dates['2018'])\n",
    "crimes_2018_months = {}\n",
    "\n",
    "# year 2018\n",
    "crimes_2018_months = groupby_month(crimes_2018_year)\n",
    "crimes_2018_01 = pd.DataFrame(data=(crimes_2018_months['01']))\n",
    "crimes_2018_02 = pd.DataFrame(data=(crimes_2018_months['02']))\n",
    "crimes_2018_03 = pd.DataFrame(data=(crimes_2018_months['03']))\n",
    "crimes_2018_04 = pd.DataFrame(data=(crimes_2018_months['04']))\n",
    "crimes_2018_05 = pd.DataFrame(data=(crimes_2018_months['05']))\n",
    "crimes_2018_06 = pd.DataFrame(data=(crimes_2018_months['06']))\n",
    "crimes_2018_07 = pd.DataFrame(data=(crimes_2018_months['07']))\n",
    "crimes_2018_08 = pd.DataFrame(data=(crimes_2018_months['08']))\n",
    "crimes_2018_09 = pd.DataFrame(data=(crimes_2018_months['09']))\n",
    "crimes_2018_10 = pd.DataFrame(data=(crimes_2018_months['10']))\n",
    "crimes_2018_11 = pd.DataFrame(data=(crimes_2018_months['11']))\n",
    "crimes_2018_12 = pd.DataFrame(data=(crimes_2018_months['12']))"
   ]
  },
  {
   "cell_type": "code",
   "execution_count": null,
   "metadata": {},
   "outputs": [],
   "source": [
    "Holi_2018 = [\"01/01/2018\", \"01/15/2018\", \"02/19/2018\", \"03/28/2018\", \"07/04/2018\", \"09/03/2018\", \"10/08/2018\", \n",
    "        \"11/11/2018\", \"11/22/2018\", \"12/25/2018\"]\n",
    "\n",
    "print (\"Total crimes for all holidays in 2018: \")\n",
    "print((crimes_2018_year.loc[crimes_2018_year['Date Occurred'].isin(Holi_2018)])[\"Crime Code Description\"].value_counts()[:5])"
   ]
  },
  {
   "cell_type": "code",
   "execution_count": null,
   "metadata": {},
   "outputs": [],
   "source": [
    "(crimes_2018_year.loc[crimes_2018_year['Date Occurred'].isin(Holi_2018)])[\"Crime Code Description\"].value_counts()[:10].plot(kind='bar')"
   ]
  },
  {
   "cell_type": "code",
   "execution_count": null,
   "metadata": {},
   "outputs": [],
   "source": [
    "for i in Holi_2018:\n",
    "    print (\"Top crimes for\", i)\n",
    "    print((crimes_2018_year.loc[crimes_2018_year['Date Occurred'] == i])[\"Crime Code Description\"].value_counts()[:5])\n",
    "    print(\"\\n\")"
   ]
  },
  {
   "cell_type": "code",
   "execution_count": null,
   "metadata": {},
   "outputs": [],
   "source": [
    "crimes_2018_01['Date Occurred'].value_counts().plot(kind='bar', title='January 2018')"
   ]
  },
  {
   "cell_type": "code",
   "execution_count": null,
   "metadata": {},
   "outputs": [],
   "source": [
    "crimes_2018_02['Date Occurred'].value_counts().plot(kind='bar', title='February 2018')"
   ]
  },
  {
   "cell_type": "code",
   "execution_count": null,
   "metadata": {},
   "outputs": [],
   "source": [
    "crimes_2018_03['Date Occurred'].value_counts().plot(kind='bar', title='March 2018')"
   ]
  },
  {
   "cell_type": "code",
   "execution_count": null,
   "metadata": {},
   "outputs": [],
   "source": [
    "crimes_2018_04['Date Occurred'].value_counts().plot(kind='bar', title='April 2018')"
   ]
  },
  {
   "cell_type": "code",
   "execution_count": null,
   "metadata": {},
   "outputs": [],
   "source": [
    "crimes_2018_05['Date Occurred'].value_counts().plot(kind='bar', title='May 2018')"
   ]
  },
  {
   "cell_type": "code",
   "execution_count": null,
   "metadata": {},
   "outputs": [],
   "source": [
    "crimes_2018_06['Date Occurred'].value_counts().plot(kind='bar', title='June 2018')"
   ]
  },
  {
   "cell_type": "code",
   "execution_count": null,
   "metadata": {},
   "outputs": [],
   "source": [
    "crimes_2018_07['Date Occurred'].value_counts().plot(kind='bar', title='July 2018')"
   ]
  },
  {
   "cell_type": "code",
   "execution_count": null,
   "metadata": {},
   "outputs": [],
   "source": [
    "crimes_2018_08['Date Occurred'].value_counts().plot(kind='bar', title='August 2018')"
   ]
  },
  {
   "cell_type": "code",
   "execution_count": null,
   "metadata": {},
   "outputs": [],
   "source": [
    "crimes_2018_09['Date Occurred'].value_counts().plot(kind='bar', title='September 2018')"
   ]
  },
  {
   "cell_type": "code",
   "execution_count": null,
   "metadata": {},
   "outputs": [],
   "source": [
    "crimes_2018_10['Date Occurred'].value_counts().plot(kind='bar', title='October 2018')"
   ]
  },
  {
   "cell_type": "code",
   "execution_count": null,
   "metadata": {},
   "outputs": [],
   "source": [
    "crimes_2018_11['Date Occurred'].value_counts().plot(kind='bar', title='November 2018')"
   ]
  },
  {
   "cell_type": "code",
   "execution_count": null,
   "metadata": {},
   "outputs": [],
   "source": [
    "crimes_2018_12['Date Occurred'].value_counts().plot(kind='bar', title='December 2018')"
   ]
  }
 ],
 "metadata": {
  "kernelspec": {
   "display_name": "Python 3",
   "language": "python",
   "name": "python3"
  },
  "language_info": {
   "codemirror_mode": {
    "name": "ipython",
    "version": 3
   },
   "file_extension": ".py",
   "mimetype": "text/x-python",
   "name": "python",
   "nbconvert_exporter": "python",
   "pygments_lexer": "ipython3",
   "version": "3.6.7"
  }
 },
 "nbformat": 4,
 "nbformat_minor": 2
}
